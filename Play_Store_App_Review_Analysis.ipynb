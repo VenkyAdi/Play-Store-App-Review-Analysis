{
  "nbformat": 4,
  "nbformat_minor": 0,
  "metadata": {
    "colab": {
      "private_outputs": true,
      "provenance": [],
      "collapsed_sections": [
        "vncDsAP0Gaoa",
        "FJNUwmbgGyua",
        "w6K7xa23Elo4",
        "yQaldy8SH6Dl",
        "PH-0ReGfmX4f",
        "mDgbUHAGgjLW",
        "O_i_v8NEhb9l",
        "HhfV-JJviCcP",
        "Y3lxredqlCYt",
        "3RnN4peoiCZX",
        "x71ZqKXriCWQ",
        "7hBIi_osiCS2",
        "JlHwYmJAmNHm",
        "35m5QtbWiB9F",
        "PoPl-ycgm1ru",
        "H0kj-8xxnORC",
        "nA9Y7ga8ng1Z",
        "PBTbrJXOngz2",
        "u3PMJOP6ngxN",
        "dauF4eBmngu3",
        "bKJF3rekwFvQ",
        "MSa1f5Uengrz",
        "GF8Ens_Soomf",
        "0wOQAZs5pc--",
        "K5QZ13OEpz2H",
        "lQ7QKXXCp7Bj",
        "448CDAPjqfQr",
        "KSlN3yHqYklG",
        "t6dVpIINYklI",
        "ijmpgYnKYklI",
        "-JiQyfWJYklI",
        "EM7whBJCYoAo",
        "fge-S5ZAYoAp",
        "85gYPyotYoAp",
        "RoGjAbkUYoAp",
        "4Of9eVA-YrdM",
        "iky9q4vBYrdO",
        "F6T5p64dYrdO",
        "y-Ehk30pYrdP",
        "bamQiAODYuh1",
        "QHF8YVU7Yuh3",
        "GwzvFGzlYuh3",
        "qYpmQ266Yuh3",
        "OH-pJp9IphqM",
        "bbFf2-_FphqN",
        "_ouA3fa0phqN",
        "Seke61FWphqN",
        "PIIx-8_IphqN",
        "t27r6nlMphqO",
        "r2jJGEOYphqO",
        "b0JNsNcRphqO",
        "BZR9WyysphqO",
        "jj7wYXLtphqO",
        "eZrbJ2SmphqO",
        "rFu4xreNphqO",
        "YJ55k-q6phqO",
        "gCFgpxoyphqP",
        "OVtJsKN_phqQ",
        "lssrdh5qphqQ",
        "U2RJ9gkRphqQ",
        "1M8mcRywphqQ",
        "tgIPom80phqQ",
        "JMzcOPDDphqR",
        "x-EpHcCOp1ci",
        "X_VqEhTip1ck",
        "8zGJKyg5p1ck",
        "PVzmfK_Ep1ck",
        "n3dbpmDWp1ck",
        "ylSl6qgtp1ck",
        "ZWILFDl5p1ck",
        "M7G43BXep1ck",
        "Ag9LCva-p1cl",
        "E6MkPsBcp1cl",
        "2cELzS2fp1cl",
        "3MPXvC8up1cl",
        "NC_X3p0fY2L0",
        "UV0SzAkaZNRQ",
        "YPEH6qLeZNRQ",
        "q29F0dvdveiT",
        "EXh0U9oCveiU",
        "22aHeOlLveiV",
        "JcMwzZxoAimU",
        "8G2x9gOozGDZ",
        "gCX9965dhzqZ",
        "gIfDvo9L0UH2"
      ],
      "cell_execution_strategy": "setup",
      "include_colab_link": true
    },
    "kernelspec": {
      "name": "python3",
      "display_name": "Python 3"
    },
    "language_info": {
      "name": "python"
    }
  },
  "cells": [
    {
      "cell_type": "markdown",
      "metadata": {
        "id": "view-in-github",
        "colab_type": "text"
      },
      "source": [
        "<a href=\"https://colab.research.google.com/github/VenkyAdi/Play-Store-App-Review-Analysis/blob/main/Play_Store_App_Review_Analysis.ipynb\" target=\"_parent\"><img src=\"https://colab.research.google.com/assets/colab-badge.svg\" alt=\"Open In Colab\"/></a>"
      ]
    },
    {
      "cell_type": "markdown",
      "source": [
        "# **Project Name**    -  **Play Store App Review Analysis**\n",
        "\n"
      ],
      "metadata": {
        "id": "vncDsAP0Gaoa"
      }
    },
    {
      "cell_type": "markdown",
      "source": [
        "##### **Project Type**    - EDA\n",
        "##### **Contribution**    - Individual\n"
      ],
      "metadata": {
        "id": "beRrZCGUAJYm"
      }
    },
    {
      "cell_type": "markdown",
      "source": [
        "# **Project Summary -**"
      ],
      "metadata": {
        "id": "FJNUwmbgGyua"
      }
    },
    {
      "cell_type": "markdown",
      "source": [
        "This EDA project undertakes a comprehensive analysis of two critical datasets: the \"Play Store Dataset\" and the \"User Review Dataset,\" aiming to extract valuable insights for strategic decision-making in app development and optimization. The project unfolds with a meticulous exploration of the datasets' fundamental characteristics, encompassing their size, complexity, and structural nuances. Identifying and addressing issues such as duplicates and missing values is prioritized to ensure data integrity and reliability throughout the analysis process.\n",
        "\n",
        "Understanding the variables within the datasets is paramount, as it lays the foundation for uncovering meaningful insights. By scrutinizing variables' data types, distributions, and interrelationships, patterns and correlations emerge, providing valuable context for subsequent analyses. Moreover, merging the datasets based on a common identifier, such as the \"App\" column, facilitates a unified and comprehensive exploration of various app-related attributes.\n",
        "\n",
        "The data wrangling phase constitutes a pivotal aspect of the project, wherein data is cleaned, transformed, and prepared for analysis. Techniques such as data cleaning, imputation for missing values, and derivation of new variables are employed to enhance the quality and suitability of the datasets for further examination.\n",
        "\n",
        "Data visualization emerges as a powerful tool for communicating insights effectively. Through a diverse array of charts, plots, and graphs, relationships between variables are visually depicted, enabling the identification of trends, patterns, and outliers within the data. This visual representation not only enhances the interpretability of the findings but also aids in the formulation of actionable recommendations.\n",
        "\n",
        "The subsequent analysis delves into critical aspects of app performance and user engagement, including user sentiments, app ratings, genre preferences, and the impact of updates. Insights derived from this analysis serve as a springboard for crafting strategic recommendations aimed at optimizing app performance and driving business growth.\n",
        "\n",
        "Key recommendations include a focus on strategic genre development, prioritization of free apps to attract users, optimization of app size to enhance user experience, tailoring content ratings to align with target audience preferences, and strategic revenue generation through diverse monetization models. Additionally, ensuring compatibility with the latest Android versions, fostering user engagement in popular categories, continuous improvement based on user feedback, and addressing negative sentiments are emphasized to sustain long-term success in the competitive app market.\n",
        "\n",
        "By embracing an agile and data-driven approach, coupled with a keen understanding of user preferences and market dynamics, the client can position themselves for sustained success and growth in the ever-evolving landscape of the Android app market. This holistic approach ensures adaptability, resilience, and responsiveness to emerging trends and challenges, ultimately driving enhanced user satisfaction and business outcomes."
      ],
      "metadata": {
        "id": "F6v_1wHtG2nS"
      }
    },
    {
      "cell_type": "markdown",
      "source": [
        "# **GitHub Link -**"
      ],
      "metadata": {
        "id": "w6K7xa23Elo4"
      }
    },
    {
      "cell_type": "markdown",
      "source": [
        "Provide your GitHub Link here."
      ],
      "metadata": {
        "id": "h1o69JH3Eqqn"
      }
    },
    {
      "cell_type": "markdown",
      "source": [
        "# **Problem Statement**\n"
      ],
      "metadata": {
        "id": "yQaldy8SH6Dl"
      }
    },
    {
      "cell_type": "markdown",
      "source": [
        "**Write Problem Statement Here.**"
      ],
      "metadata": {
        "id": "DpeJGUA3kjGy"
      }
    },
    {
      "cell_type": "markdown",
      "source": [
        "**Business Problem Overview**\n",
        "\n",
        "The Play Store apps dataset holds tremendous potential for driving app-making businesses to success, especially with Android's expanding user base and the booming mobile app industry. As the competition intensifies among app developers, understanding the factors that attract users and drive app downloads becomes crucial.\n",
        "To aid developers in navigating this competitive landscape, we embark on an analytical journey, delving into relevant data to uncover insights. By dissecting download trends and assessing market demand, we empower developers to make informed decisions about their app offerings.\n",
        "Our analysis doesn't stop there. We delve deeper into user sentiments surrounding apps, identifying which ones evoke the most positive and negative feedback. This sentiment analysis not only provides valuable insights into user preferences but also aids in evaluating the sustainability of apps in the market.\n",
        "By leveraging both historical data and current market dynamics, our aim is to provide actionable insights that enable app developers to optimize their strategies, enhance app performance, and thrive in the ever-evolving app market landscape."
      ],
      "metadata": {
        "id": "HlDIM7_MEg-Y"
      }
    },
    {
      "cell_type": "markdown",
      "source": [
        "#### **Define Your Business Objective?**"
      ],
      "metadata": {
        "id": "PH-0ReGfmX4f"
      }
    },
    {
      "cell_type": "markdown",
      "source": [
        "Analyze the Play Store apps dataset to unearth essential factors driving app engagement and success, offering valuable insights to enhance app performance within the Android market."
      ],
      "metadata": {
        "id": "PhDvGCAqmjP1"
      }
    },
    {
      "cell_type": "markdown",
      "source": [
        "# **General Guidelines** : -  "
      ],
      "metadata": {
        "id": "mDgbUHAGgjLW"
      }
    },
    {
      "cell_type": "markdown",
      "source": [
        "1.   Well-structured, formatted, and commented code is required.\n",
        "2.   Exception Handling, Production Grade Code & Deployment Ready Code will be a plus. Those students will be awarded some additional credits.\n",
        "     \n",
        "     The additional credits will have advantages over other students during Star Student selection.\n",
        "       \n",
        "             [ Note: - Deployment Ready Code is defined as, the whole .ipynb notebook should be executable in one go\n",
        "                       without a single error logged. ]\n",
        "\n",
        "3.   Each and every logic should have proper comments.\n",
        "4. You may add as many number of charts you want. Make Sure for each and every chart the following format should be answered.\n",
        "        \n",
        "\n",
        "```\n",
        "# Chart visualization code\n",
        "```\n",
        "            \n",
        "\n",
        "*   Why did you pick the specific chart?\n",
        "*   What is/are the insight(s) found from the chart?\n",
        "* Will the gained insights help creating a positive business impact?\n",
        "Are there any insights that lead to negative growth? Justify with specific reason.\n",
        "\n",
        "5. You have to create at least 20 logical & meaningful charts having important insights.\n",
        "\n",
        "\n",
        "[ Hints : - Do the Vizualization in  a structured way while following \"UBM\" Rule.\n",
        "\n",
        "U - Univariate Analysis,\n",
        "\n",
        "B - Bivariate Analysis (Numerical - Categorical, Numerical - Numerical, Categorical - Categorical)\n",
        "\n",
        "M - Multivariate Analysis\n",
        " ]\n",
        "\n",
        "\n",
        "\n"
      ],
      "metadata": {
        "id": "ZrxVaUj-hHfC"
      }
    },
    {
      "cell_type": "markdown",
      "source": [
        "# ***Let's Begin !***"
      ],
      "metadata": {
        "id": "O_i_v8NEhb9l"
      }
    },
    {
      "cell_type": "markdown",
      "source": [
        "## ***1. Know Your Data***"
      ],
      "metadata": {
        "id": "HhfV-JJviCcP"
      }
    },
    {
      "cell_type": "markdown",
      "source": [
        "### Import Libraries"
      ],
      "metadata": {
        "id": "Y3lxredqlCYt"
      }
    },
    {
      "cell_type": "code",
      "source": [
        "# Import Libraries\n",
        "import pandas as pd\n",
        "import numpy as np\n",
        "import seaborn as sns\n",
        "import matplotlib.pyplot as plt\n",
        "import warnings\n",
        "warnings.filterwarnings('ignore')"
      ],
      "metadata": {
        "id": "M8Vqi-pPk-HR"
      },
      "execution_count": null,
      "outputs": []
    },
    {
      "cell_type": "markdown",
      "source": [
        "### Dataset Loading"
      ],
      "metadata": {
        "id": "3RnN4peoiCZX"
      }
    },
    {
      "cell_type": "code",
      "source": [
        "# Load Dataset\n",
        "from google.colab import drive\n",
        "drive.mount('/content/drive')"
      ],
      "metadata": {
        "id": "4CkvbW_SlZ_R"
      },
      "execution_count": null,
      "outputs": []
    },
    {
      "cell_type": "code",
      "source": [
        "df_play_data = pd.read_csv('/content/drive/MyDrive/Colab Notebooks/EDA_Play_Store/Content/Play Store Data.csv')\n",
        "df_user_review = pd.read_csv('/content/drive/MyDrive/Colab Notebooks/EDA_Play_Store/Content/User Reviews.csv')"
      ],
      "metadata": {
        "id": "zk_TR-MdJUqw"
      },
      "execution_count": null,
      "outputs": []
    },
    {
      "cell_type": "markdown",
      "source": [
        "### Dataset First View"
      ],
      "metadata": {
        "id": "x71ZqKXriCWQ"
      }
    },
    {
      "cell_type": "code",
      "source": [
        "# Dataset First Look\n",
        "#Data Frame for Play Store data\n",
        "print(\"Play Store Data : \")\n",
        "df_play_data.head()"
      ],
      "metadata": {
        "id": "LWNFOSvLl09H"
      },
      "execution_count": null,
      "outputs": []
    },
    {
      "cell_type": "code",
      "source": [
        "#Data Frame for User Review\n",
        "print('User Review Data')\n",
        "df_user_review.head()"
      ],
      "metadata": {
        "id": "hTuYvOZRKoz_"
      },
      "execution_count": null,
      "outputs": []
    },
    {
      "cell_type": "markdown",
      "source": [
        "### Dataset Rows & Columns count"
      ],
      "metadata": {
        "id": "7hBIi_osiCS2"
      }
    },
    {
      "cell_type": "code",
      "source": [
        "# Dataset Rows & Columns count\n",
        "print(\"Number of Rows in Play Store dataset :\",df_play_data.shape[0])\n",
        "print(\"Number of Columns in Play Store dataset :\",df_play_data.shape[1])\n",
        "print(\"Number of Rows in User Reviews dataset :\",df_user_review.shape[0])\n",
        "print(\"Number of Columns in User Reviews dataset :\",df_user_review.shape[1])"
      ],
      "metadata": {
        "id": "Kllu7SJgmLij"
      },
      "execution_count": null,
      "outputs": []
    },
    {
      "cell_type": "markdown",
      "source": [
        "### Dataset Information"
      ],
      "metadata": {
        "id": "JlHwYmJAmNHm"
      }
    },
    {
      "cell_type": "code",
      "source": [
        "# Dataset Info\n",
        "df_play_data.info()"
      ],
      "metadata": {
        "id": "e9hRXRi6meOf"
      },
      "execution_count": null,
      "outputs": []
    },
    {
      "cell_type": "code",
      "source": [
        "df_user_review.info()"
      ],
      "metadata": {
        "id": "SYPlvtJOEvgZ"
      },
      "execution_count": null,
      "outputs": []
    },
    {
      "cell_type": "markdown",
      "source": [
        "#### Duplicate Values"
      ],
      "metadata": {
        "id": "35m5QtbWiB9F"
      }
    },
    {
      "cell_type": "code",
      "source": [
        "# Dataset Duplicate Value Count\n",
        "print(\"Duplicate values in Play Store :\",len(df_play_data[df_play_data.duplicated()]))\n",
        "print(\"Duplicate values in User Reivews:\",len(df_user_review[df_user_review.duplicated()]))"
      ],
      "metadata": {
        "id": "1sLdpKYkmox0"
      },
      "execution_count": null,
      "outputs": []
    },
    {
      "cell_type": "markdown",
      "source": [
        "#### Missing Values/Null Values"
      ],
      "metadata": {
        "id": "PoPl-ycgm1ru"
      }
    },
    {
      "cell_type": "code",
      "source": [
        "# Missing Values/Null Values Count.\n",
        "print(\"Missing values : \",df_play_data.isnull().sum())"
      ],
      "metadata": {
        "id": "GgHWkxvamxVg"
      },
      "execution_count": null,
      "outputs": []
    },
    {
      "cell_type": "code",
      "source": [
        "# Visualizing the missing values\n",
        "sns.heatmap(df_play_data.isnull(),cbar = False)"
      ],
      "metadata": {
        "id": "85Nt_dNEFJwE"
      },
      "execution_count": null,
      "outputs": []
    },
    {
      "cell_type": "code",
      "source": [
        "print(\"Missing Values : \",df_user_review.isnull().sum())"
      ],
      "metadata": {
        "id": "PtAAKw-jFCzu"
      },
      "execution_count": null,
      "outputs": []
    },
    {
      "cell_type": "code",
      "source": [
        "# Visualizing the missing values\n",
        "sns.heatmap(df_user_review.isnull(),cbar = False)"
      ],
      "metadata": {
        "id": "3q5wnI3om9sJ"
      },
      "execution_count": null,
      "outputs": []
    },
    {
      "cell_type": "markdown",
      "source": [
        "### What did you know about your dataset?"
      ],
      "metadata": {
        "id": "H0kj-8xxnORC"
      }
    },
    {
      "cell_type": "markdown",
      "source": [
        "The primary objective of this dataset is to analyze the impact of user engagement across different applications genre's on the current Android market.\n",
        "\n",
        "Upon thorough examination of the data, it reveals that the Play Store Dataset contains around 483 duplicate values and 1,487 missing values, while the User Dataset exhibits approximately 33,616 duplicate values and 107,457 missing values.\n",
        "\n",
        "Objective : Discover essential factors driving app engagement and success in the Android market by analyzing this dataset."
      ],
      "metadata": {
        "id": "gfoNAAC-nUe_"
      }
    },
    {
      "cell_type": "markdown",
      "source": [
        "## ***2. Understanding Your Variables***"
      ],
      "metadata": {
        "id": "nA9Y7ga8ng1Z"
      }
    },
    {
      "cell_type": "code",
      "source": [
        "# Dataset Columns\n",
        "\n",
        "print(\"The Play Store Dataset: \\n : \",df_play_data.columns)"
      ],
      "metadata": {
        "id": "j7xfkqrt5Ag5"
      },
      "execution_count": null,
      "outputs": []
    },
    {
      "cell_type": "code",
      "source": [
        "print(\"The Play Store Dataset: \\n : \",df_user_review.columns)"
      ],
      "metadata": {
        "id": "6trrrnWnFeXN"
      },
      "execution_count": null,
      "outputs": []
    },
    {
      "cell_type": "code",
      "source": [
        "# Dataset Describe\n",
        "df_play_data.describe(include = 'all')"
      ],
      "metadata": {
        "id": "DnOaZdaE5Q5t"
      },
      "execution_count": null,
      "outputs": []
    },
    {
      "cell_type": "code",
      "source": [
        "df_user_review.describe(include = 'all')"
      ],
      "metadata": {
        "id": "OtTzfU9xFnuS"
      },
      "execution_count": null,
      "outputs": []
    },
    {
      "cell_type": "markdown",
      "source": [
        "### Variables Description"
      ],
      "metadata": {
        "id": "PBTbrJXOngz2"
      }
    },
    {
      "cell_type": "markdown",
      "source": [
        "###**Descriptions for Play Store Dataset**:\n",
        "\n",
        "**App:** The application's name and a brief description.\n",
        "\n",
        "**Category:** The app's assigned category.\n",
        "\n",
        "**Rating:** The average user rating.\n",
        "\n",
        "**Reviews:** The total number of user reviews.\n",
        "\n",
        "**Size:** The space the app occupies on a mobile phone.\n",
        "\n",
        "**Installs:** The overall installations or downloads.\n",
        "\n",
        "**Type:** Indicates whether the app is free or paid.\n",
        "\n",
        "**Price:** The installation cost. For free apps, the price is zero.\n",
        "\n",
        "**Content Rating:** Specifies if the app is suitable for all age groups.\n",
        "\n",
        "**Genres:** Various categories to which an app can belong.\n",
        "\n",
        "**Last Updated:** The date of the app's last update.\n",
        "\n",
        "**Current Ver:** The app's current version.\n",
        "\n",
        "**Android Ver:** The Android version supporting the app.\n",
        "\n",
        "###**Descriptions for User Reviews Dataset**:\n",
        "\n",
        "**App:** The app's name with a brief description.\n",
        "\n",
        "**Translated_Review:** English translation of the user's review.\n",
        "\n",
        "**Sentiment:** The reviewer’s attitude categorized as 'Positive', 'Negative', or 'Neutral'.\n",
        "\n",
        "**Sentiment_Polarity:** The review's polarity, ranging from -1 (Negative) to 1 (Positive).\n",
        "\n",
        "**Sentiment_Subjectivity:** The score indicates the degree to which a reviewer’s opinion aligns with the general public’s opinion, with a range of [0, 1]. Higher scores suggest opinions closer to the general public, while lower scores indicate more factual information in the review"
      ],
      "metadata": {
        "id": "aJV4KIxSnxay"
      }
    },
    {
      "cell_type": "markdown",
      "source": [
        "### Check Unique Values for each variable."
      ],
      "metadata": {
        "id": "u3PMJOP6ngxN"
      }
    },
    {
      "cell_type": "code",
      "source": [
        "# Check Unique Values for each variable.\n",
        "for i in df_play_data.columns.tolist():\n",
        "  print(\"Number of unique values in Play Store Dataset\",i,'is : ',df_play_data[i].nunique())"
      ],
      "metadata": {
        "id": "zms12Yq5n-jE"
      },
      "execution_count": null,
      "outputs": []
    },
    {
      "cell_type": "code",
      "source": [
        "for i in df_user_review.columns.tolist():\n",
        "  print(\"Number of unique values in User Review Dataset\",i,'is : ',df_user_review[i].nunique())"
      ],
      "metadata": {
        "id": "BSuNOtcbFy5d"
      },
      "execution_count": null,
      "outputs": []
    },
    {
      "cell_type": "markdown",
      "source": [
        "## 3. ***Data Wrangling***"
      ],
      "metadata": {
        "id": "dauF4eBmngu3"
      }
    },
    {
      "cell_type": "markdown",
      "source": [
        "### Data Wrangling Code"
      ],
      "metadata": {
        "id": "bKJF3rekwFvQ"
      }
    },
    {
      "cell_type": "markdown",
      "source": [
        "**Handle Missing and duplicate Values**"
      ],
      "metadata": {
        "id": "_P15rXBfdl2p"
      }
    },
    {
      "cell_type": "markdown",
      "source": [
        "**Removing Non_Numeric Characters**"
      ],
      "metadata": {
        "id": "R0zighfEdtlx"
      }
    },
    {
      "cell_type": "code",
      "source": [
        "non_numeric_reviews = df_play_data[df_play_data['Reviews'].str.contains(r'\\D')]\n",
        "print(\"Rows with non-numeric characters in 'Reviews' column:\")\n",
        "non_numeric_reviews"
      ],
      "metadata": {
        "id": "uVERDASAHWk-"
      },
      "execution_count": null,
      "outputs": []
    },
    {
      "cell_type": "code",
      "source": [
        "df_play_data = df_play_data.drop(index=10472)\n",
        "df_play_data = df_play_data.reset_index(drop=True)"
      ],
      "metadata": {
        "id": "zZ1shwrtRZV8"
      },
      "execution_count": null,
      "outputs": []
    },
    {
      "cell_type": "markdown",
      "source": [
        "**Type Conversion On Reviews Column and Changing Last Updated to DateTime**"
      ],
      "metadata": {
        "id": "OV4WA1THpkV2"
      }
    },
    {
      "cell_type": "code",
      "source": [
        "df_play_data['Reviews'] = df_play_data['Reviews'].astype(int)\n",
        "\n",
        "df_play_data['Last Updated'] = pd.to_datetime(df_play_data['Last Updated'])"
      ],
      "metadata": {
        "id": "rnNPk-OoHfYT"
      },
      "execution_count": null,
      "outputs": []
    },
    {
      "cell_type": "markdown",
      "source": [
        "**Creating a custom function for droping special characters**"
      ],
      "metadata": {
        "id": "Of7naQAcp81p"
      }
    },
    {
      "cell_type": "code",
      "source": [
        "def drop_dollar(value):\n",
        "\n",
        "    if '$' in value:\n",
        "        return float(value[1:])\n",
        "    else:\n",
        "        return float(value)\n",
        "\n",
        "# Applying the drop_dollar function to the 'Price' column\n",
        "df_play_data['Price'] = df_play_data['Price'].apply(lambda x: drop_dollar(x))"
      ],
      "metadata": {
        "id": "Rxp8JE22RpBz"
      },
      "execution_count": null,
      "outputs": []
    },
    {
      "cell_type": "code",
      "source": [
        "def drop_plus(value):\n",
        "    '''\n",
        "    This function drops the + symbol if present and returns the value with int datatype.\n",
        "    If the value is not a valid integer, return 0.\n",
        "    '''\n",
        "    try:\n",
        "        if '+' and ',' in value:\n",
        "            return int(value[:-1].replace(',', ''))\n",
        "        elif '+' in value:\n",
        "            return int(value[:-1])\n",
        "        else:\n",
        "            return int(value)\n",
        "    except ValueError:\n",
        "        return 0\n",
        "    '''\n",
        "    The 'Installs' column now contains integer values representing the minimum number of times an app has been installed.\n",
        "    An 'Installs' value of 0 means the app has not been installed.\n",
        "    An 'Installs' value of 1 means the app has been installed at least once.\n",
        "    An 'Installs' value of 1000000 means the app has been installed by at least one million users, and so on.\n",
        "    '''\n",
        "# The drop_plus function applied to the 'Installs' column\n",
        "df_play_data['Installs'] = df_play_data['Installs'].apply(lambda x: drop_plus(x))\n"
      ],
      "metadata": {
        "id": "lLuha-bgRwWb"
      },
      "execution_count": null,
      "outputs": []
    },
    {
      "cell_type": "markdown",
      "source": [
        "**Creating a custom function for changing the Size Entries**"
      ],
      "metadata": {
        "id": "u2qbIwu9qP18"
      }
    },
    {
      "cell_type": "code",
      "source": [
        "def kb_to_mb(entry):\n",
        "    '''\n",
        "    Converts size entries to MB. Returns as a float if in megabytes (M), or converts and rounds to 4 decimal places if in kilobytes (k).\n",
        "    Returns the original entry if not in either format or if any conversion exception occurs.\n",
        "    '''\n",
        "    try:\n",
        "        if 'M' in entry:\n",
        "            return float(entry[:-1])\n",
        "        elif 'k' in entry:\n",
        "            return round(float(entry[:-1]) / 1024, 4)\n",
        "        else:\n",
        "            return entry\n",
        "    except:\n",
        "        return entry\n",
        "\n",
        "# The kb_to_mb funtion applied to the size column\n",
        "df_play_data['Size'] = df_play_data['Size'].apply(lambda x: kb_to_mb(x))"
      ],
      "metadata": {
        "id": "lCFeQZgwR2DS"
      },
      "execution_count": null,
      "outputs": []
    },
    {
      "cell_type": "markdown",
      "source": [
        "**Handle Missing and Null Values**"
      ],
      "metadata": {
        "id": "rqGSZjGed5Fr"
      }
    },
    {
      "cell_type": "code",
      "source": [
        "# Write your code to make your dataset analysis ready.\n",
        "df_play_data.drop_duplicates(inplace = True)\n",
        "df_user_review.drop_duplicates(inplace = True)\n",
        "\n",
        "df_play_data['Rating'].fillna(df_play_data['Rating'].median(), inplace=True)\n",
        "df_play_data['Type'].fillna(df_play_data['Type'].mode()[0], inplace=True)\n",
        "df_play_data['Size'].fillna(df_play_data['Size'].mode()[0], inplace=True)\n",
        "df_play_data['Content Rating'].fillna(df_play_data['Content Rating'].mode()[0], inplace=True)\n",
        "df_play_data['Current Ver'].fillna('Varies with device', inplace=True)\n",
        "df_play_data['Android Ver'].fillna('Varies with device', inplace=True)\n",
        "\n",
        "df_user_review['Sentiment_Polarity'].fillna(df_user_review['Sentiment_Polarity'].median(), inplace=True)\n",
        "df_user_review['Sentiment_Subjectivity'].fillna(df_user_review['Sentiment_Subjectivity'].median(), inplace=True)\n",
        "df_user_review['Sentiment'].fillna(df_user_review['Sentiment'].mode()[0], inplace=True)\n",
        "df_user_review['Translated_Review'].fillna('No review', inplace=True)\n",
        "\n",
        "dup_play_store = len(df_play_data[df_play_data.duplicated()])\n",
        "dup_user_review = len(df_user_review[df_user_review.duplicated()])\n",
        "\n",
        "print(' Number of duplicated values after dropping : ',dup_play_store)\n",
        "print(' Number of duplicated values after dropping : ',dup_user_review)\n",
        "print(\"\\n Number of missing values after filling : \",df_play_data.isnull().sum())\n",
        "print(\"\\n Number of missing values after filling : \",df_user_review.isnull().sum())"
      ],
      "metadata": {
        "id": "wk-9a2fpoLcV"
      },
      "execution_count": null,
      "outputs": []
    },
    {
      "cell_type": "markdown",
      "source": [
        "**Play Store Data Info after Data Cleaning**"
      ],
      "metadata": {
        "id": "Rc4fAmfSeLCx"
      }
    },
    {
      "cell_type": "code",
      "source": [
        "print('Play Store Updated Data Info:')\n",
        "df_play_data.info()"
      ],
      "metadata": {
        "id": "-Xz6xwTlKl68"
      },
      "execution_count": null,
      "outputs": []
    },
    {
      "cell_type": "markdown",
      "source": [
        "**Data Aanlysis Based on Dataset**"
      ],
      "metadata": {
        "id": "vI1FBQlgeWxs"
      }
    },
    {
      "cell_type": "markdown",
      "source": [
        "**Number of Apps Based on Category**"
      ],
      "metadata": {
        "id": "EQTQZNPgMbDR"
      }
    },
    {
      "cell_type": "code",
      "source": [
        "category_counts = df_play_data['Category'].value_counts()\n",
        "category_counts_sorted = category_counts.sort_values(ascending=False)\n",
        "category_counts_sorted"
      ],
      "metadata": {
        "id": "dpkMxrWQMaZ3"
      },
      "execution_count": null,
      "outputs": []
    },
    {
      "cell_type": "markdown",
      "source": [
        "**Most Rated Apps**"
      ],
      "metadata": {
        "id": "e2f8RxJ_MDxf"
      }
    },
    {
      "cell_type": "code",
      "source": [
        "merged_df = pd.merge(df_play_data, df_user_review, on='App', how='inner')\n",
        "\n",
        "top_rated_apps = merged_df.groupby('App')['Rating'].mean().sort_values(ascending=False)\n",
        "top_apps = top_rated_apps.head(25)\n",
        "\n",
        "top_apps_categories = []\n",
        "top_apps_ratings = []\n",
        "for app in top_apps.index:\n",
        "    category = merged_df.loc[merged_df['App'] == app, 'Category'].iloc[0]\n",
        "    rating = merged_df.loc[merged_df['App'] == app, 'Rating'].iloc[0]\n",
        "    top_apps_categories.append(category)\n",
        "    top_apps_ratings.append(rating)\n",
        "\n",
        "top_apps_df = pd.DataFrame({'App': top_apps.index, 'Category': top_apps_categories, 'Rating': top_apps_ratings})\n",
        "top_apps_df"
      ],
      "metadata": {
        "id": "rFFZHNJNLiyG"
      },
      "execution_count": null,
      "outputs": []
    },
    {
      "cell_type": "markdown",
      "source": [
        "**Installed Apps Count Based on Size Group**"
      ],
      "metadata": {
        "id": "xkiLA-8TNbkh"
      }
    },
    {
      "cell_type": "code",
      "source": [
        "def size_apps(var):\n",
        "  '''\n",
        "  This function groups the size of an app\n",
        "  between ~0 to 100 MB into certain intervals.\n",
        "  '''\n",
        "  try:\n",
        "    if var < 1:\n",
        "      return 'Below 1'\n",
        "    elif var >= 1 and var <10:\n",
        "      return '1-10'\n",
        "    elif var >= 10 and var <20:\n",
        "      return '10-20'\n",
        "    elif var >= 20 and var <30:\n",
        "      return '20-30'\n",
        "    elif var >= 30 and var <40:\n",
        "      return '30-40'\n",
        "    elif var >= 40 and var <50:\n",
        "      return '40-50'\n",
        "    elif var >= 50 and var <60:\n",
        "      return '50-60'\n",
        "    elif var >= 60 and var <70:\n",
        "      return '60-70'\n",
        "    elif var >= 70 and var <80:\n",
        "      return '70-80'\n",
        "    elif var >= 80 and var <90:\n",
        "      return '80-90'\n",
        "    else:\n",
        "      return '90 and above'\n",
        "  except:\n",
        "    return var\n",
        "\n",
        "df_play_data['size_group']=df_play_data['Size'].apply(lambda x : size_apps(x))\n",
        "df_play_data['size_group'].value_counts()"
      ],
      "metadata": {
        "id": "gOq6e2VQM7PX"
      },
      "execution_count": null,
      "outputs": []
    },
    {
      "cell_type": "markdown",
      "source": [
        "**Count of Apps Based on there Type**"
      ],
      "metadata": {
        "id": "K4VTj6GGN8PD"
      }
    },
    {
      "cell_type": "code",
      "source": [
        "data = df_play_data['Type'].value_counts()\n",
        "labels = ['Free', 'Paid']\n",
        "print(data)"
      ],
      "metadata": {
        "id": "aAKlOxT_NpXv"
      },
      "execution_count": null,
      "outputs": []
    },
    {
      "cell_type": "markdown",
      "source": [
        "**Rating Based on App Type**"
      ],
      "metadata": {
        "id": "WIFDyecbqiSq"
      }
    },
    {
      "cell_type": "code",
      "source": [
        "grouped_df = merged_df.groupby(['Category', 'Type'])['Rating'].mean().unstack()\n",
        "\n",
        "categories = grouped_df.index\n",
        "num_categories = len(categories)\n",
        "\n",
        "paid_ratings = grouped_df['Paid']\n",
        "free_ratings = grouped_df['Free']\n",
        "\n",
        "ratings_df = pd.DataFrame({\n",
        "    'Paid': paid_ratings,\n",
        "    'Free': free_ratings\n",
        "})\n",
        "\n",
        "print(ratings_df)"
      ],
      "metadata": {
        "id": "d6KLBsmKXoQs"
      },
      "execution_count": null,
      "outputs": []
    },
    {
      "cell_type": "markdown",
      "source": [
        "**Top 10 paid and Free Apps**"
      ],
      "metadata": {
        "id": "2Ws7O4-VOG7A"
      }
    },
    {
      "cell_type": "code",
      "source": [
        "free_df = df_play_data[df_play_data['Type'] == 'Free']\n",
        "paid_df = df_play_data[df_play_data['Type'] == 'Paid']\n",
        "\n",
        "\n",
        "free_counts = free_df.groupby('App')['Price'].count().sort_values(ascending=False).head(10)\n",
        "paid_counts = paid_df.groupby('App')['Price'].count().sort_values(ascending=False).head(10)\n",
        "\n",
        "combined_counts = pd.concat([free_counts, paid_counts], axis=1, keys=['Free', 'Paid']).fillna(0)\n",
        "print(combined_counts)"
      ],
      "metadata": {
        "id": "MSB62X52OGrG"
      },
      "execution_count": null,
      "outputs": []
    },
    {
      "cell_type": "markdown",
      "source": [
        "**Average Rating Over Time**"
      ],
      "metadata": {
        "id": "hdF28YleOtHi"
      }
    },
    {
      "cell_type": "code",
      "source": [
        "average_ratings = df_play_data.groupby(df_play_data['Last Updated'].dt.year)['Rating'].mean()\n",
        "print(average_ratings)"
      ],
      "metadata": {
        "id": "xlNUjdGaOs1b"
      },
      "execution_count": null,
      "outputs": []
    },
    {
      "cell_type": "markdown",
      "source": [
        "### What all manipulations have you done and insights you found?"
      ],
      "metadata": {
        "id": "MSa1f5Uengrz"
      }
    },
    {
      "cell_type": "markdown",
      "source": [
        "**Manipulation**\n",
        "\n",
        "1. **Removing Non-Numeric Characters:**\n",
        "   - In this step, we have identifed and removed any non-numeric characters from certain columns in our dataset. This is often necessary when dealing with columns that are supposed to contain numeric values but may have unexpected characters mixed in.In our dataset it was in the row -number 10472\n",
        "   \n",
        "\n",
        "2. **Type Conversion on Reviews Column and Changing Last Updated to DateTime:**\n",
        "   - After removing non-numeric characters from the 'Reviews' column, we had converted its data type to numeric (integer or float) so that we can perform mathematical operations or analysis on it.\n",
        "   - Similarly, we might need to convert the 'Last Updated' column to a datetime data type if it's currently stored as a string or object type. This conversion allows us to work with dates more effectively, such as sorting by date or extracting specific components like year or month.\n",
        "\n",
        "3. **Creating a Custom Function for Dropping Special Characters:**\n",
        "   - This step involves defining a custom function that can be applied to specific columns in our dataset to remove any special characters that are not needed or may interfere with data analysis. The function should iterate over each character in the column's values and selectively remove those that are considered special, leaving only the desired alphanumeric characters intact.example : $,+,@\n",
        "\n",
        "4. **Creating a Custom Function for Changing the Size Entries:**\n",
        "   - Here, we have created another custom function to standardize the format of entries in the 'Size' column. This involves converting sizes from different units (e.g., kilobytes to megabytes) or removing unnecessary text (e.g., \"M\" for megabytes). Standardizing the size entries ensures consistency and facilitates comparisons or calculations involving app sizes.\n",
        "\n",
        "5. **Handling Missing and Null Values:**\n",
        "   - Missing or null values in a dataset can affect the integrity and accuracy of our analysis. In this step, we have addressed as many as possible missing or null values in our dataset by either removing rows with missing data, imputing values based on certain criteria (e.g., mean or median), or marking them as a separate category.\n",
        "\n",
        "6. **Play Store Data Info after Data Cleaning:**\n",
        "   - After performing the aforementioned data cleaning steps, we havew summarize the key characteristics of our dataset to assess its cleanliness and readiness for analysis. This summary included information such as the total number of records, the number of missing values in each column, the data types of each column, and any transformations or modifications that were applied during the cleaning process. This summary provides insights into the quality of the data and informs subsequent analysis steps.\n",
        "\n",
        "**Insights**\n",
        "\n",
        "\n",
        "*   **Number of Apps Based on Category**\n",
        "*   **Installed Apps Count Based on Size Group**\n",
        "\n",
        "*   **Count of Apps Based on their Type**\n",
        "*   **Rating Based on App Type**\n",
        "\n",
        "*   **Top 10 paid and Free Apps**\n",
        "*   **Average Rating Over Time**\n"
      ],
      "metadata": {
        "id": "LbyXE7I1olp8"
      }
    },
    {
      "cell_type": "markdown",
      "source": [
        "## ***4. Data Vizualization, Storytelling & Experimenting with charts : Understand the relationships between variables***"
      ],
      "metadata": {
        "id": "GF8Ens_Soomf"
      }
    },
    {
      "cell_type": "markdown",
      "source": [
        "#### Chart - 1"
      ],
      "metadata": {
        "id": "0wOQAZs5pc--"
      }
    },
    {
      "cell_type": "code",
      "source": [
        "# Create a figure with subplots\n",
        "fig, axes = plt.subplots(1, 2, figsize=(20, 8))\n",
        "\n",
        "# Plot 1 - Top Categories on Play Store\n",
        "sns.barplot(x=category_counts_sorted.values, y=category_counts_sorted.index, color='#ffa700', ax=axes[0])\n",
        "axes[0].set_xlabel('Number of Apps', fontsize=14, color='black')\n",
        "axes[0].set_ylabel('App Categories', fontsize=14, color='black')\n",
        "axes[0].set_title('Top Categories on Play Store', fontsize=18, color='black')\n",
        "for i, count in enumerate(category_counts_sorted.values):\n",
        "    axes[0].text(count + 20, i, str(count), ha='left', va='center', fontsize=12, color='black')\n",
        "\n",
        "# Plot 2 - Top Rated Apps\n",
        "top_apps_df.groupby(['App'])['Rating'].sum().sort_values().plot.barh(color='#ffa700', ax=axes[1])\n",
        "axes[1].set_ylabel('App Name', fontsize=15, color='black')\n",
        "axes[1].set_xlabel('Rating', fontsize=15, color='black')\n",
        "axes[1].set_xticks([4.5, 4.6, 4.7, 4.8, 4.9, 5.0])\n",
        "axes[1].set_xticklabels([4.5, 4.6, 4.7, 4.8, 4.9, 5.0], color='black')\n",
        "axes[1].set_yticklabels(axes[1].get_yticklabels(), color='black')\n",
        "axes[1].set_xlim(4.5, 5.0)\n",
        "axes[1].set_title('Top Rated Apps', fontsize=20, color='black')\n",
        "\n",
        "\n",
        "plt.tight_layout()\n",
        "plt.show()\n"
      ],
      "metadata": {
        "id": "7v_ESjsspbW7"
      },
      "execution_count": null,
      "outputs": []
    },
    {
      "cell_type": "markdown",
      "source": [
        "##### 1. Why did you pick the specific chart?"
      ],
      "metadata": {
        "id": "K5QZ13OEpz2H"
      }
    },
    {
      "cell_type": "markdown",
      "source": [
        "The horizontal bar chart was chosen due to its suitability for facilitating visual comparison among different apps based on their ratings. Horizontal bars offer a straightforward means of comparison, as the lengths of the bars directly correspond to the ratings. This arrangement makes it effortless to discern the highest-rated apps within their respective categories.\n",
        "\n",
        "By observing the lengths of the bars, viewers can quickly identify which apps have garnered the highest ratings and mostly installed. Additionally, the horizontal orientation of the bars lends itself well to displaying categorical information alongside the ratings. This setup allows for a clear and intuitive understanding of how each app performs within its specific category."
      ],
      "metadata": {
        "id": "XESiWehPqBRc"
      }
    },
    {
      "cell_type": "markdown",
      "source": [
        "##### 2. What is/are the insight(s) found from the chart?"
      ],
      "metadata": {
        "id": "lQ7QKXXCp7Bj"
      }
    },
    {
      "cell_type": "markdown",
      "source": [
        "\n",
        "1. The horizontal bar chart showcases the top 25 apps with the highest average ratings across diverse categories.\n",
        "\n",
        "2. These top-rated apps span a wide range of categories, demonstrating the diversity of user preferences and needs. Categories include Finance, Game, Dating, Health and Fitness, Photography, Family, Parenting, Maps and Navigation, Tools, Books and Reference, Social, Video Players, Medical, and Auto and Vehicles.\n",
        "\n",
        "3. Notable examples among the top-rated apps include **Associated Credit Union Mobile** in Finance, **Cooking Madness - A Chef's Restaurant Games** in Gaming, **FreePrints – Free Photos Delivered** in Photography, and **GoodRx Drug Prices and Coupons** in Medical. These examples highlight the variety of services and utilities catered to by these highly-rated applications.\n",
        "\n",
        "4. The highest-rated apps, achieving a remarkable 4.9 rating, encompass a spectrum of functionalities. For instance, **FREE LIVE TALK** in the Dating category emphasizes communication, while apps like \"CDL Practice Test 2018 Edition\" and **DMV Permit Practice Test 2018 Edition** in Auto and Vehicles focus on education and preparation. **Down Dog: Great Yoga Anywhere** in Health and Fitness emphasizes physical well-being. These high ratings signify exceptional user satisfaction and suggest that these apps effectively meet user expectations.\n"
      ],
      "metadata": {
        "id": "C_j1G7yiqdRP"
      }
    },
    {
      "cell_type": "markdown",
      "source": [
        "##### 3. Will the gained insights help creating a positive business impact?\n",
        "Are there any insights that lead to negative growth? Justify with specific reason."
      ],
      "metadata": {
        "id": "448CDAPjqfQr"
      }
    },
    {
      "cell_type": "markdown",
      "source": [
        "The insights gleaned from the chart hold significant potential to drive positive business outcomes.\n",
        "\n",
        "1. **Category Performance Analysis**: Through a thorough examination of the top-rated apps and their respective categories, businesses can gain valuable insights into the market landscape. Identifying which app categories are thriving and resonate well with users provides crucial guidance for companies intending to venture into app development or investment. Armed with this knowledge, businesses can strategically allocate resources towards developing or expanding their presence within these prosperous categories, thereby increasing the likelihood of user engagement and satisfaction.\n",
        "\n",
        "2. **User Preference Understanding**: The consistently high ratings of top apps underscore their alignment with user expectations and preferences. By dissecting the features and functionalities that contribute to the success of these apps, businesses can gain deep insights into what resonates with their target audience. This understanding serves as a blueprint for the development and enhancement of their own apps, ensuring they meet and exceed user expectations. By incorporating elements that have proven successful in top-rated apps, businesses can enhance their competitive edge and foster stronger user engagement and loyalty.\n",
        "\n",
        "Regarding negative growth, the insights derived from the chart do not specifically indicate any instances of declining performance or negative growth. Instead, the focus remains on leveraging the positive trends and user preferences identified to drive strategic decision-making and enhance business outcomes."
      ],
      "metadata": {
        "id": "3cspy4FjqxJW"
      }
    },
    {
      "cell_type": "markdown",
      "source": [
        "#### Chart - 2"
      ],
      "metadata": {
        "id": "KSlN3yHqYklG"
      }
    },
    {
      "cell_type": "code",
      "source": [
        "# Chart - 2 visualization code\n",
        "\n",
        "# Set the figure size and facecolor\n",
        "fig = plt.figure(figsize=(20, 10))\n",
        "\n",
        "# Data preparation for the first pie chart\n",
        "data1 = df_play_data['Type'].value_counts()\n",
        "labels1 = ['Free', 'Paid']\n",
        "explode1 = (0, 0.1)\n",
        "\n",
        "# Subplot 1 - Distribution of Paid and Free Apps\n",
        "ax1 = fig.add_subplot(1, 2, 1)\n",
        "ax1.pie(data1, labels=labels1, autopct='%1.1f%%', explode=explode1, colors=['#ffa700', 'crimson'],textprops={'fontsize': 15})\n",
        "ax1.set_title('Distribution of Paid and Free Apps', size=20, color='black')\n",
        "\n",
        "# Data preparation for the second pie chart\n",
        "data2 = df_play_data['Content Rating'].value_counts()\n",
        "labels2 = ['Everyone', 'Teen', 'Everyone 10+', 'Mature 17+', 'Adults only 18+', 'Unrated']\n",
        "explode2 = (0, 0.1, 0.1, 0.1, 0.0, 1.3)\n",
        "colors2 = ['#ffa700', 'r', 'c', 'g', 'm', 'k']\n",
        "\n",
        "# Subplot 2 - Content Rating\n",
        "ax2 = fig.add_subplot(1, 2, 2)\n",
        "ax2.pie(data2, labels=labels2, colors=colors2, autopct='%.2f%%', explode=explode2, textprops={'fontsize': 15})\n",
        "ax2.set_title('Distribution % On Content Rating Based Under Age-Group', size=20, loc='center')\n",
        "ax2.legend(facecolor = 'white')\n",
        "\n",
        "plt.show()"
      ],
      "metadata": {
        "id": "R4YgtaqtYklH"
      },
      "execution_count": null,
      "outputs": []
    },
    {
      "cell_type": "markdown",
      "source": [
        "##### 1. Why did you pick the specific chart?"
      ],
      "metadata": {
        "id": "t6dVpIINYklI"
      }
    },
    {
      "cell_type": "markdown",
      "source": [
        "A pie chart is an effective visual aid for illustrating the distribution of segments within a dataset and emphasizing their relative proportions in relation to the whole. In this specific instance, I utilized a pie chart to clearly display the proportion of both 'Free' and 'Paid' categories within the 'Type' column of the dataset. Additionally, the pie chart concurrently represents another distribution, specifically the distribution of content ratings.\n",
        "\n",
        "This approach allows for a comprehensive visualization of two distinct distributions in a single graph, providing viewers with a holistic understanding of the dataset's composition. By presenting the relative proportions of 'Free' and 'Paid' categories alongside the distribution of content ratings, the pie chart facilitates quick and intuitive interpretation of the dataset's characteristics, aiding decision-making processes and strategic analysis.\n"
      ],
      "metadata": {
        "id": "5aaW0BYyYklI"
      }
    },
    {
      "cell_type": "markdown",
      "source": [
        "##### 2. What is/are the insight(s) found from the chart?"
      ],
      "metadata": {
        "id": "ijmpgYnKYklI"
      }
    },
    {
      "cell_type": "markdown",
      "source": [
        "In the pie chart, the larger segment represents free apps, constituting a significant majority at 92.3% of the total. Conversely, the smaller segment represents paid apps, comprising only 7.7% of the total. This striking contrast underscores the prevalent trend of free-to-download and use applications dominating the Google Play Store.\n",
        "\n",
        "Approximately 80.93% of the apps available on the Play Store are accessible to users of all age groups, without any specific age restrictions. Conversely, the remaining portion of apps imposes various age limitations, dictating specific age groups for their usage."
      ],
      "metadata": {
        "id": "PSx9atu2YklI"
      }
    },
    {
      "cell_type": "markdown",
      "source": [
        "##### 3. Will the gained insights help creating a positive business impact?\n",
        "Are there any insights that lead to negative growth? Justify with specific reason."
      ],
      "metadata": {
        "id": "-JiQyfWJYklI"
      }
    },
    {
      "cell_type": "markdown",
      "source": [
        "**Positive Implications:**\n",
        "\n",
        "1. **Enhanced User Engagement:** Free apps tend to garner more downloads and user interaction, benefiting from a wider user base drawn by the absence of cost barriers. This fosters heightened engagement and interaction levels with the application.\n",
        "\n",
        "2. **Versatile Revenue Streams:** Despite being free, developers can explore diverse revenue streams such as in-app purchases, advertising, and premium features. This adaptability empowers developers to generate revenue through multiple channels, enhancing financial sustainability.\n",
        "\n",
        "**Considerations for Negative Growth:**\n",
        "\n",
        "1. **Monetization Complexity:** The prevalence of free apps poses challenges for developers aiming to generate revenue directly through upfront payments. Effective monetization strategies demand careful consideration, as developers navigate the balance between user satisfaction and sustainable business practices.\n",
        "\n",
        "2. **Intense Competition and Visibility:** The abundance of free apps amplifies competition for visibility within the market. Standing out amidst this competition becomes pivotal, often necessitating investments in marketing and discoverability initiatives to maintain relevance.\n",
        "\n",
        "3. **User Experience Implications:** Monetization via advertising warrants a delicate approach to avoid compromising the user experience. Excessive or intrusive ads risk alienating users and potentially driving them away from the application, underscoring the importance of prioritizing user satisfaction in monetization strategies.\n",
        "\n",
        "4. **Limitation of Audience Reach:** Age restrictions may limit the potential audience reach for certain apps, particularly those designed for specific age groups. This could potentially reduce the overall user base and limit the app's potential for widespread adoption and engagement.\n",
        "\n",
        "5. **Complex Compliance Requirements:** Developers of age-restricted apps must navigate complex compliance requirements related to age verification, privacy laws, and regulatory standards. Ensuring compliance can be time-consuming and resource-intensive, potentially posing challenges for smaller developers or those with limited resources.\n",
        "\n",
        "6. **Impact on Revenue Generation:** Age restrictions may affect the monetization potential of apps, especially if the target audience is a specific age group with limited purchasing power. This could impact revenue generation strategies and profitability, particularly for apps that rely on in-app purchases or subscriptions.\n",
        "\n",
        "7. **User Experience Concerns:** Implementing age restrictions could lead to a fragmented user experience, as users may encounter barriers or limitations based on their age group. This could potentially result in user frustration or dissatisfaction, impacting app usage and retention rates.\n",
        "\n",
        "8. **Regulatory Risks:** Non-compliance with age-related regulations and guidelines could expose developers to legal risks, including fines, penalties, or even removal of the app from the Play Store. Navigating and adhering to regulatory requirements is essential to mitigate these risks and maintain the app's presence on the platform.\n",
        "\n"
      ],
      "metadata": {
        "id": "BcBbebzrYklV"
      }
    },
    {
      "cell_type": "markdown",
      "source": [
        "#### Chart - 3"
      ],
      "metadata": {
        "id": "EM7whBJCYoAo"
      }
    },
    {
      "cell_type": "code",
      "source": [
        "fig, axs = plt.subplots(1, 2, figsize=(20, 8))\n",
        "\n",
        "# Function to format numbers as millions or thousands with whole numbers only\n",
        "def format_value(value):\n",
        "    if value >= 1000000:\n",
        "        return f'{value // 1000000}M'\n",
        "    elif value >= 1000:\n",
        "        return f'{value // 1000}K'\n",
        "    else:\n",
        "        return str(value)\n",
        "\n",
        "# Calculate the average number of user reviews\n",
        "avg_reviews = df_play_data.groupby('size_group')['Reviews'].mean().sort_values()\n",
        "\n",
        "# Plot average number of user reviews\n",
        "axs[0].bar(avg_reviews.index, avg_reviews.values, color='green')\n",
        "\n",
        "# Add data labels for average user reviews\n",
        "for i, v in enumerate(avg_reviews.values):\n",
        "    axs[0].text(i, v + 0.1, format_value(v), ha='center', va='bottom', fontsize=10)\n",
        "\n",
        "# Set title and labels for average user reviews subplot\n",
        "axs[0].set_title('Average number of user reviews (in millions)', size=20)\n",
        "axs[0].set_xlabel('App size in MB', size=15)\n",
        "axs[0].set_ylabel('Average no of user reviews', size=15)\n",
        "\n",
        "# Calculate the average number of app installs in millions with whole numbers only\n",
        "avg_installs_millions = (df_play_data.groupby('size_group')['Installs']\n",
        "                         .mean().sort_values(ascending=False))\n",
        "\n",
        "# Plot average number of app installs\n",
        "axs[1].bar(avg_installs_millions.index, avg_installs_millions.values, color='sandybrown')\n",
        "\n",
        "# Add data labels for average app installs\n",
        "for i, v in enumerate(avg_installs_millions.values):\n",
        "    axs[1].text(i, v + 0.1, format_value(v), ha='center', va='bottom', fontsize=10)\n",
        "\n",
        "# Set title and labels for average app installs subplot\n",
        "axs[1].set_title('Average number of app installs (In millions)', size=20)\n",
        "axs[1].set_xlabel('App size in MB', size=15)\n",
        "axs[1].set_ylabel('Average no of app installs', size=15)\n",
        "\n",
        "# Rotate x-axis labels\n",
        "for ax in axs:\n",
        "    ax.set_xticklabels(ax.get_xticklabels(), rotation=90, ha='right')\n",
        "\n",
        "# Adjust layout to prevent overlap\n",
        "plt.tight_layout()\n",
        "\n",
        "# Show the plot\n",
        "plt.show()"
      ],
      "metadata": {
        "id": "JytKP8MjfY3a"
      },
      "execution_count": null,
      "outputs": []
    },
    {
      "cell_type": "markdown",
      "source": [
        "##### 1. Why did you pick the specific chart?"
      ],
      "metadata": {
        "id": "fge-S5ZAYoAp"
      }
    },
    {
      "cell_type": "markdown",
      "source": [
        "A vertical bar chart allows for easy comparison between different categories (in this case, different app size groups) as the bars are aligned vertically. This alignment enables viewers to quickly identify variations in user engagement and app popularity across various size groups.\n",
        "Vertical bar charts are commonly used for displaying numerical data, making them familiar and intuitive for most audiences. The simplicity of the chart layout ensures clear visualization of the average number of user reviews and app installs, aiding comprehension and interpretation of the data."
      ],
      "metadata": {
        "id": "5dBItgRVYoAp"
      }
    },
    {
      "cell_type": "markdown",
      "source": [
        "##### 2. What is/are the insight(s) found from the chart?"
      ],
      "metadata": {
        "id": "85gYPyotYoAp"
      }
    },
    {
      "cell_type": "markdown",
      "source": [
        "1. The majority of apps fall within the size range of 1 to 20 MB, indicating a prevalent trend towards relatively compact app sizes. This suggests a common preference among developers and users for applications that consume less device storage.\n",
        "\n",
        "2. A significant portion of apps have sizes that vary with the device, reflecting the flexibility and adaptability of these applications across different hardware configurations. This variability enables developers to optimize app performance and resource utilization for a diverse range of devices.\n",
        "\n",
        "3. Notably, apps with smaller average sizes tend to have lower numbers of app installs and user reviews. This correlation suggests that while smaller apps may offer benefits such as reduced storage space and quicker downloads, they may attract comparatively fewer users and garner lower levels of user engagement and feedback.\n",
        "\n"
      ],
      "metadata": {
        "id": "4jstXR6OYoAp"
      }
    },
    {
      "cell_type": "markdown",
      "source": [
        "##### 3. Will the gained insights help creating a positive business impact?\n",
        "Are there any insights that lead to negative growth? Justify with specific reason."
      ],
      "metadata": {
        "id": "RoGjAbkUYoAp"
      }
    },
    {
      "cell_type": "markdown",
      "source": [
        "The insights gained from the data can indeed have a positive business impact, but there are also considerations for potential negative growth:\n",
        "\n",
        "Positive Business Impact:\n",
        "1. Understanding the prevalent trend towards compact app sizes (1 to 20 MB) can help developers optimize their apps for efficient storage usage. By prioritizing smaller app sizes, developers can appeal to users who prioritize device storage space, potentially increasing app downloads and user satisfaction.\n",
        "\n",
        "2. Recognizing the variability of app sizes across devices allows developers to tailor their applications for optimal performance on different hardware configurations. This adaptability can enhance user experience and broaden the app's potential market reach, leading to increased user adoption and positive reviews.\n",
        "\n",
        "Negative Growth Considerations:\n",
        "1. While smaller app sizes may offer storage benefits, the correlation between smaller app sizes and lower user engagement (measured by app installs and user reviews) suggests a potential downside. Developers should be cautious not to compromise app features or functionality in pursuit of smaller sizes, as this could lead to decreased user interest and negative growth in terms of app popularity and revenue.\n"
      ],
      "metadata": {
        "id": "zfJ8IqMcYoAp"
      }
    },
    {
      "cell_type": "markdown",
      "source": [
        "#### Chart - 4"
      ],
      "metadata": {
        "id": "4Of9eVA-YrdM"
      }
    },
    {
      "cell_type": "code",
      "source": [
        "import matplotlib.ticker as ticker\n",
        "\n",
        "paid_df.loc[:, 'Revenue'] = paid_df['Installs'] * paid_df['Price']\n",
        "top10paid_apps=paid_df.nlargest(10, 'Revenue', keep='first')\n",
        "top10paid_apps['App']\n",
        "\n",
        "# Create price ranges\n",
        "merged_df['Price'] = pd.to_numeric(merged_df['Price'], errors='coerce')\n",
        "price_ranges = {\n",
        "    'Low-cost': ['0<=40'],\n",
        "    'Premium': ['50<']\n",
        "}\n",
        "merged_df['Price Range'] = pd.cut(merged_df['Price'], bins=[0, 2.99, float('inf')], labels=['Low-cost', 'Premium'])\n",
        "average_ratings1 = merged_df.groupby('Price Range')['Rating'].mean()\n",
        "\n",
        "# Plot the first chart\n",
        "plt.figure(figsize=(18, 6))\n",
        "\n",
        "# First Chart - Average Ratings for Different Price Ranges\n",
        "plt.subplot(1, 3, 1)\n",
        "plt.bar(average_ratings1.index, average_ratings1.values,color = '#ffa700')\n",
        "plt.xlabel('Price Range')\n",
        "plt.ylabel('Average Rating')\n",
        "plt.title('Average Ratings for Different Price Ranges')\n",
        "\n",
        "# Second Chart - Categories in which the top 10 paid apps belong\n",
        "plt.subplot(1, 3, 2)\n",
        "top10paid_apps['Category'].value_counts().plot.bar(color= '#ffa700')\n",
        "formatter = ticker.FuncFormatter(lambda x, _: '{:.0%}'.format(x))\n",
        "plt.gca().yaxis.set_major_formatter(formatter)\n",
        "plt.xlabel('Category', size=12)\n",
        "plt.ylabel('Percent of apps', size=12)\n",
        "plt.title('Categories in which the top 10 paid apps belong', size=15)\n",
        "plt.xticks(rotation=90)\n",
        "\n",
        "# Third Chart - Top apps based on revenue generated through installation fee (vertical bar chart)\n",
        "plt.subplot(1, 3, 3)\n",
        "top10paid_apps.groupby('App')['Revenue'].mean().sort_values(ascending=True).plot.bar(color='#ffa700')\n",
        "plt.ylabel('Revenue Generated (USD)', size=15)\n",
        "plt.title('Top apps based on revenue generated through installation fee', size=12)\n",
        "\n",
        "plt.tight_layout()\n",
        "plt.show()"
      ],
      "metadata": {
        "id": "irlUoxc8YrdO"
      },
      "execution_count": null,
      "outputs": []
    },
    {
      "cell_type": "markdown",
      "source": [
        "##### 1. Why did you pick the specific chart?"
      ],
      "metadata": {
        "id": "iky9q4vBYrdO"
      }
    },
    {
      "cell_type": "markdown",
      "source": [
        "I opted for bar plots because they excel in effectively visualizing categorical data, enabling easy comparisons between different groups or categories. For example, when analyzing the average ratings across various price ranges, I found that bar plots provided a clear depiction of user satisfaction levels between low-cost and premium apps. Additionally, in exploring the distribution of top-paid apps across different categories and the revenue generated by each, I chose bar plots for their ability to present data in a concise and comprehensible manner, allowing for quick identification of trends and insights. Overall, I selected bar plots as they offer simplicity and clarity, making them an ideal choice for succinctly conveying the key findings of these analyses."
      ],
      "metadata": {
        "id": "aJRCwT6DYrdO"
      }
    },
    {
      "cell_type": "markdown",
      "source": [
        "##### 2. What is/are the insight(s) found from the chart?"
      ],
      "metadata": {
        "id": "F6T5p64dYrdO"
      }
    },
    {
      "cell_type": "markdown",
      "source": [
        "\n",
        "1. **Average Ratings for Different Price Ranges:** The chart depicting average ratings across different price ranges reveals that premium apps, despite their higher cost, might not necessarily guarantee higher user satisfaction. This suggests that users might have diverse preferences and expectations irrespective of the app's price.\n",
        "\n",
        "2. **Categories in which the top 10 paid apps belong:** The distribution of top-paid apps across categories indicates the market demand and popularity of certain app categories over others. Developers can use this insight to focus on categories that have a higher likelihood of attracting paying users and generating revenue.\n",
        "\n",
        "3. **Top Apps Based on Revenue Generated Through Installation Fee:** The chart showcasing the top revenue-generating apps highlights specific applications that have been particularly successful in monetizing through installation fees. This offers insights into the types of apps and features that users are willing to pay for, guiding developers in creating more profitable products.\n",
        "\n",
        "Overall, these insights provide valuable information for developers and stakeholders in understanding user preferences, market trends, and revenue potential within the paid mobile app ecosystem."
      ],
      "metadata": {
        "id": "Xx8WAJvtYrdO"
      }
    },
    {
      "cell_type": "markdown",
      "source": [
        "##### 3. Will the gained insights help creating a positive business impact?\n",
        "Are there any insights that lead to negative growth? Justify with specific reason."
      ],
      "metadata": {
        "id": "y-Ehk30pYrdP"
      }
    },
    {
      "cell_type": "markdown",
      "source": [
        "\n",
        "Positive Business Impact:\n",
        "1. **Optimizing Pricing Strategy:** Understanding that premium pricing doesn't necessarily correlate with higher user satisfaction can lead to a more nuanced approach to pricing strategies. Developers can experiment with pricing models, such as value-based pricing or tiered pricing, to better align with user expectations and maximize revenue.\n",
        "\n",
        "2. **Category Focus:** Recognizing the categories where the top-paid apps are concentrated allows developers to focus their resources and efforts on creating apps within those categories. By catering to popular demand, developers can increase their chances of success and profitability in the market.\n",
        "\n",
        "3. **Monetization Opportunities:** Identifying the top revenue-generating apps provides insights into effective monetization strategies. Developers can learn from these successful apps and implement similar tactics, such as in-app purchases, subscriptions, or ad placements, to increase their own revenue streams.\n",
        "\n",
        "Negative Growth:\n",
        "1. **Lack of User Satisfaction:** If developers continue to prioritize premium pricing without considering user satisfaction levels, they may risk negative growth. Users who feel dissatisfied with high-priced apps may be reluctant to make future purchases or recommend the app to others, leading to decreased sales and revenue over time.\n",
        "\n",
        "2. **Ignoring Market Trends:** Failing to adapt to market trends and consumer preferences within popular app categories could result in missed opportunities for growth. Developers who overlook emerging trends or persist with outdated app concepts may struggle to attract users and compete effectively in the market.\n",
        "\n",
        "3. **Monetization Pitfalls:** Relying solely on installation fees for revenue generation, without diversifying monetization strategies, may limit long-term growth potential. Developers need to consider alternative revenue streams, such as in-app purchases, subscriptions, or partnerships, to sustainably monetize their apps and adapt to changing market dynamics.\n",
        "\n",
        "In conclusion, while the insights gained from the charts offer opportunities for positive business impact, it's essential for developers and stakeholders to carefully evaluate and address any potential pitfalls to ensure sustained growth and success in the competitive mobile app market."
      ],
      "metadata": {
        "id": "jLNxxz7MYrdP"
      }
    },
    {
      "cell_type": "markdown",
      "source": [
        "#### Chart - 5"
      ],
      "metadata": {
        "id": "bamQiAODYuh1"
      }
    },
    {
      "cell_type": "code",
      "source": [
        "genre_installs = merged_df.groupby('Genres')['Installs'].sum().reset_index()\n",
        "sorted_genre_installs = genre_installs.sort_values(by='Installs', ascending=False)\n",
        "top_10_genres = sorted_genre_installs.head(10)\n",
        "\n",
        "# Create the plot\n",
        "plt.figure(figsize=(12, 6))\n",
        "sns.barplot(x='Genres', y='Installs', data=top_10_genres, color='#ffa700')\n",
        "\n",
        "# Add data labels\n",
        "for index, value in enumerate(top_10_genres['Installs']):\n",
        "    # Convert the value to millions or thousands with whole numbers only\n",
        "    if value >= 1e6:\n",
        "        formatted_value = f'{int(value / 1e6):,}M'\n",
        "    elif value >= 1e3:\n",
        "        formatted_value = f'{int(value / 1e3):,}K'\n",
        "    else:\n",
        "        formatted_value = f'{int(value):,}'\n",
        "\n",
        "    plt.text(index, value, formatted_value, color='black', ha=\"center\", fontsize=10)  # Adjust fontsize and color as needed\n",
        "\n",
        "# Customize the plot\n",
        "plt.xticks(rotation=90, ha='right')\n",
        "plt.title('Top 10 Genres by Installs', size=20)\n",
        "plt.xlabel('App Genres', size=15)\n",
        "plt.ylabel('Total Installs', size=15)\n",
        "\n",
        "# Show the plot\n",
        "plt.tight_layout()\n",
        "plt.show()"
      ],
      "metadata": {
        "id": "dIFD22k0PGdZ"
      },
      "execution_count": null,
      "outputs": []
    },
    {
      "cell_type": "markdown",
      "source": [
        "##### 1. Why did you pick the specific chart?"
      ],
      "metadata": {
        "id": "QHF8YVU7Yuh3"
      }
    },
    {
      "cell_type": "markdown",
      "source": [
        "Bar charts serve as effective visual tools for depicting the frequency of occurrence of values within categorical or nominal variables. In this context, I have opted to utilize a bar chart to highlight the top 10 genres of apps based on the number of installations they have garnered.\n",
        "\n",
        "This choice of visualization allows for a clear representation of the relative popularity and demand for different app genres among users. By plotting the number of installations on the vertical axis against the app genres on the horizontal axis, the bar chart provides a straightforward and intuitive way to identify the most prevalent genres in the app market.\n",
        "\n",
        "Additionally, the bar chart facilitates easy comparison between different genres, enabling viewers to quickly discern which genres attract the highest levels of user engagement and interest. This insight can be valuable for app developers, marketers, and stakeholders seeking to understand market trends, target audience preferences, and potential opportunities for app development and promotion."
      ],
      "metadata": {
        "id": "dcxuIMRPYuh3"
      }
    },
    {
      "cell_type": "markdown",
      "source": [
        "##### 2. What is/are the insight(s) found from the chart?"
      ],
      "metadata": {
        "id": "GwzvFGzlYuh3"
      }
    },
    {
      "cell_type": "markdown",
      "source": [
        "1. **Photography**: Topping the list is the Photography category, reflecting the widespread enthusiasm for smartphone photography. With the advancement of camera technology and the popularity of social media platforms, Photography apps empower users to capture, edit, and share captivating visuals seamlessly.\n",
        "\n",
        "2. **Social**: Following closely behind, the Social category holds a prominent position in user preference. Social apps serve as digital hubs for connecting with friends, sharing updates, and engaging with content. They facilitate communication, networking, and community-building, enriching users' social interactions in the digital realm.\n",
        "\n",
        "3. **Communication**: Securing the third spot is the Communication category, comprising messaging and video conferencing apps. In an increasingly connected world, Communication apps play a pivotal role in facilitating real-time conversations and collaboration, enabling users to stay connected with peers, family, and colleagues across distances.\n",
        "\n",
        "4. **Tools**: Next on the list is the Tools category, which offers a diverse array of utilities and resources to enhance productivity and organization. From task management and note-taking to file sharing and device optimization, Tools apps empower users to streamline their workflows and optimize their digital experiences.\n",
        "\n",
        "5. **Casual**: Rounding out the top five is the Casual category, encompassing a wide range of leisure and entertainment apps. Casual games, in particular, offer accessible and enjoyable gameplay experiences for users of all ages, providing a welcome escape from the demands of daily life."
      ],
      "metadata": {
        "id": "uyqkiB8YYuh3"
      }
    },
    {
      "cell_type": "markdown",
      "source": [
        "##### 3. Will the gained insights help creating a positive business impact?\n",
        "Are there any insights that lead to negative growth? Justify with specific reason."
      ],
      "metadata": {
        "id": "qYpmQ266Yuh3"
      }
    },
    {
      "cell_type": "markdown",
      "source": [
        "###Positive Business Impact:\n",
        "1. **Photography Apps Trend:** With Photography apps leading in popularity, businesses have a lucrative opportunity to capitalize on the growing trend of smartphone photography. By developing innovative apps that offer enhanced photo editing, organization, and sharing features, companies can cater to the increasing consumer interest in visual content creation.\n",
        "\n",
        "2. **Social Apps Appeal:** Following closely behind, the Social category holds significant appeal among users. Businesses can leverage this trend by creating engaging social media platforms or enhancing existing ones to foster community-building and user interaction. This presents opportunities for monetization through advertising and premium features.\n",
        "\n",
        "3. **Communication Apps Importance:** Securing the third spot is the Communication category, highlighting the paramount importance of connectivity in today's digital landscape. Businesses can focus on developing user-friendly messaging and video conferencing apps to meet the growing demand for seamless communication and collaboration.\n",
        "\n",
        "4. **Tools Apps Popularity:** Ranked fourth, the Tools category signifies a strong demand for applications that enhance productivity and organization. Companies can seize this opportunity by developing practical tools and utilities that address users' work and lifestyle needs, thus offering value and convenience.\n",
        "\n",
        "5. **Casual Entertainment:** Rounding out the top five is the Casual category, representing leisure and entertainment apps. Businesses can target this genre by creating engaging casual games or entertainment platforms, catering to users seeking accessible and enjoyable experiences during their leisure time.\n",
        "\n",
        "###Negative Growth Consideration:\n",
        "\n",
        "1. **Competitive Challenges:** Saturated markets within certain categories may pose challenges for new entrants, leading to intense competition and difficulties in gaining visibility and user traction. Businesses should carefully assess market dynamics and strategize accordingly to mitigate negative growth impacts.\n",
        "\n",
        "2. **Addressing User Feedback:** Negative reviews or lower app ratings could signal areas for improvement. Businesses must actively listen to user feedback and address concerns to maintain user satisfaction and prevent negative growth stemming from declining installs and usage.\n",
        "\n",
        "3. **Adaptation to Trends:** App markets are dynamic, and trends evolve over time. Failing to adapt to emerging trends or technological advancements may result in declining popularity and negative growth for apps that become outdated. It's crucial for businesses to stay abreast of industry trends and innovate accordingly to sustain growth."
      ],
      "metadata": {
        "id": "_WtzZ_hCYuh4"
      }
    },
    {
      "cell_type": "markdown",
      "source": [
        "#### Chart - 6"
      ],
      "metadata": {
        "id": "OH-pJp9IphqM"
      }
    },
    {
      "cell_type": "code",
      "source": [
        "top_20_Category = merged_df['Category'].value_counts().head(20).index\n",
        "df_top_20_Category = merged_df[merged_df['Category'].isin(top_20_Category)]\n",
        "\n",
        "# Replace values in the 'Android Ver' column\n",
        "df_top_20_Category['Android Ver'].replace(to_replace=['4.4W and up','Varies with device'], value=['4.4','1.0'],inplace=True)\n",
        "df_top_20_Category['Android Ver'].replace({k: '1.0' for k in ['1.0','1.0 and up','1.5 and up','1.6 and up']},inplace=True)\n",
        "df_top_20_Category['Android Ver'].replace({k: '2.0' for k in ['2.0 and up','2.0.1 and up','2.1 and up','2.2 and up','2.2 - 7.1.1','2.3 and up','2.3.3 and up']},inplace=True)\n",
        "df_top_20_Category['Android Ver'].replace({k: '3.0' for k in ['3.0 and up','3.1 and up','3.2 and up']},inplace=True)\n",
        "df_top_20_Category['Android Ver'].replace({k: '4.0' for k in ['4.0 and up','4.0.3 and up','4.0.3 - 7.1.1','4.1 and up','4.1 - 7.1.1','4.2 and up','4.3 and up','4.4','4.4 and up']},inplace=True)\n",
        "df_top_20_Category['Android Ver'].replace({k: '5.0' for k in ['5.0 - 6.0','5.0 - 7.1.1','5.0 - 8.0','5.0 and up','5.1 and up']},inplace=True)\n",
        "df_top_20_Category['Android Ver'].replace({k: '6.0' for k in ['6.0 and up']},inplace=True)\n",
        "df_top_20_Category['Android Ver'].replace({k: '7.0' for k in ['7.0 - 7.1.1','7.0 and up','7.1 and up']},inplace=True)\n",
        "df_top_20_Category['Android Ver'].replace({k: '8.0' for k in ['8.0 and up']},inplace=True)\n",
        "df_top_20_Category['Android Ver'].fillna('1.0', inplace=True)\n",
        "\n",
        "# Plotting\n",
        "\n",
        "Type_cat = df_top_20_Category.groupby('Genres')['Android Ver'].value_counts().unstack().plot.bar(figsize=(25,8), width=2)\n",
        "\n",
        "# Setting grid color and background\n",
        "sns.set(style='whitegrid', rc={'axes.facecolor': 'white', 'grid.color': 'white'})\n",
        "\n",
        "plt.title('Android version based on each category', fontsize=20)\n",
        "plt.xticks(ha='right', fontsize=12)\n",
        "plt.yticks(fontsize=12)\n",
        "plt.xlabel('Genres', fontsize=15)\n",
        "plt.ylabel('Count', fontsize=15)\n",
        "plt.legend(title='Android Version', fontsize=12, title_fontsize=12)\n",
        "plt.show()"
      ],
      "metadata": {
        "id": "LhUgFYYlRPa2"
      },
      "execution_count": null,
      "outputs": []
    },
    {
      "cell_type": "markdown",
      "source": [
        "##### 1. Why did you pick the specific chart?"
      ],
      "metadata": {
        "id": "bbFf2-_FphqN"
      }
    },
    {
      "cell_type": "markdown",
      "source": [
        "A bar chart is chosen to display the distribution of Android versions across different app categories. Its suitability lies in effectively representing categorical data, allowing easy comparison of Android version frequencies within each category. The simplicity and clarity of bar charts make them ideal for quick interpretation. Additionally, customization options provide flexibility for enhancing visual appeal. Overall, the bar chart efficiently presents the Android version distribution by app category."
      ],
      "metadata": {
        "id": "loh7H2nzphqN"
      }
    },
    {
      "cell_type": "markdown",
      "source": [
        "##### 2. What is/are the insight(s) found from the chart?"
      ],
      "metadata": {
        "id": "_ouA3fa0phqN"
      }
    },
    {
      "cell_type": "markdown",
      "source": [
        "The plot vividly illustrates that a significant proportion of apps are compatible with Android versions `4.0 and up`. This insight underscores the prevalence of this Android version among app developers and users alike. It suggests a widespread adoption of newer Android versions, potentially driven by the enhanced features and functionalities they offer. Furthermore, it indicates that developers prioritize compatibility with these newer versions to ensure broader accessibility and reach for their apps. Overall, the dominance of `Android_Ver 4.0 and up` highlights the importance of staying up-to-date with evolving technological standards within the Android ecosystem."
      ],
      "metadata": {
        "id": "VECbqPI7phqN"
      }
    },
    {
      "cell_type": "markdown",
      "source": [
        "##### 3. Will the gained insights help creating a positive business impact?\n",
        "Are there any insights that lead to negative growth? Justify with specific reason."
      ],
      "metadata": {
        "id": "Seke61FWphqN"
      }
    },
    {
      "cell_type": "markdown",
      "source": [
        "Positive Justification for Business:\n",
        "1. Market Reach: Focusing on compatibility with newer Android versions, particularly `Android_Ver 4.0 and up`, allows businesses to tap into a larger market of users who have upgraded to the latest operating systems. This expands the potential user base for their apps, increasing the likelihood of downloads, engagement, and revenue generation.\n",
        "\n",
        "2. Enhanced Features: Newer Android versions often introduce advanced features and capabilities that businesses can leverage to create more innovative and feature-rich apps. By prioritizing compatibility with these versions, businesses can offer users enhanced functionalities, improved performance, and a better overall user experience, thereby increasing user satisfaction and loyalty.\n",
        "\n",
        "3. Competitive Advantage: Keeping pace with technological advancements and ensuring compatibility with newer Android versions enables businesses to stay competitive in the market. Apps that embrace the latest technology trends are more likely to attract users and stand out from competitors, helping businesses maintain a strong market position and gain a competitive edge.\n",
        "\n",
        "Negative Justification for Business:\n",
        "1. Exclusion of Older Devices: Focusing solely on compatibility with newer Android versions may result in the exclusion of users with older devices that cannot support these versions. This limits the potential user base for businesses' apps and may lead to missed opportunities for reaching a significant portion of the market.\n",
        "\n",
        "2. Technical Challenges: Ensuring compatibility with newer Android versions may pose technical challenges for businesses, especially if they need to maintain backward compatibility with older versions as well. This could increase development complexity, resource requirements, and time-to-market, potentially impacting project timelines and budgets.\n",
        "\n",
        "3. User Friction: Users with older devices who encounter compatibility issues may experience frustration and dissatisfaction, leading to negative reviews, decreased app ratings, and diminished brand reputation. This could ultimately result in reduced user acquisition, retention, and revenue for businesses."
      ],
      "metadata": {
        "id": "DW4_bGpfphqN"
      }
    },
    {
      "cell_type": "markdown",
      "source": [
        "#### Chart - 7"
      ],
      "metadata": {
        "id": "PIIx-8_IphqN"
      }
    },
    {
      "cell_type": "code",
      "source": [
        "# Set the style for the first chart\n",
        "sns.set(style='whitegrid')\n",
        "\n",
        "# First chart - Distribution of Sentiment Polarity\n",
        "plt.figure(figsize=(15, 5))\n",
        "plt.subplot(1, 2, 1)\n",
        "plt.title('Distribution of Sentiment Polarity', size=20)\n",
        "sns.histplot(df_user_review['Sentiment_Polarity'], bins=50, kde=True)\n",
        "plt.xlabel('Sentiment Polarity', size=15)\n",
        "plt.ylabel('Frequency', size=15)\n",
        "\n",
        "# Set the style for the second chart\n",
        "sns.set_style(\"darkgrid\", {\"axes.facecolor\": \".10\"})\n",
        "\n",
        "# Second chart - Distribution of App Ratings\n",
        "plt.subplot(1, 2, 2)\n",
        "plt.title('Distribution of App Ratings', size=20)\n",
        "sns.histplot(df_play_data['Rating'], bins=50, kde=True, color='#ffa700', edgecolor='black')\n",
        "plt.xlabel('Rating', size=15)\n",
        "plt.xlim([None, 5])\n",
        "plt.ylabel('Frequency', size=15)\n",
        "plt.grid(True, linestyle='--', alpha=0.5)\n",
        "\n",
        "plt.tight_layout()\n",
        "plt.show()\n"
      ],
      "metadata": {
        "id": "pZ5SnnQgmMK9"
      },
      "execution_count": null,
      "outputs": []
    },
    {
      "cell_type": "markdown",
      "source": [
        "##### 1. Why did you pick the specific chart?"
      ],
      "metadata": {
        "id": "t27r6nlMphqO"
      }
    },
    {
      "cell_type": "markdown",
      "source": [
        "Histogram charts are valuable tools for visualizing the distribution of a single numerical variable. Whether depicting the polarity of reviews or the distribution of app ratings, histograms offer clear representations of frequency across different levels or categories. In both contexts, histograms enable insights into the distribution patterns, facilitating a deeper understanding of the data's nature."
      ],
      "metadata": {
        "id": "iv6ro40sphqO"
      }
    },
    {
      "cell_type": "markdown",
      "source": [
        "##### 2. What is/are the insight(s) found from the chart?"
      ],
      "metadata": {
        "id": "r2jJGEOYphqO"
      }
    },
    {
      "cell_type": "markdown",
      "source": [
        "**Dominance of Positive Sentiment:** The histogram prominently showcases a peak towards the positive side, indicating that the majority of apps receive predominantly positive sentiment from users. This suggests widespread appreciation and positive reception for most apps available on the Play Store.\n",
        "\n",
        "**Presence of Negative Sentiment:** Despite the overall positivity, a noticeable tail on the negative side of the histogram indicates that some apps do encounter negative feedback and dissatisfaction from users. Addressing these issues could lead to improvements in app quality and user satisfaction.\n",
        "\n",
        "**Distribution Shape:** The skewed-right distribution shape implies a higher concentration of apps with significantly positive sentiment compared to those with profoundly negative sentiment. This distribution trend reflects a general pattern of user satisfaction with the majority of apps on the platform.\n",
        "\n",
        "**Overall Sentiment:** The concentration of ratings between 4 and 5 underscores the overall positive sentiment prevalent among users, indicating a high level of satisfaction with the apps.\n",
        "\n",
        "**Identification of Exceptional Apps:** The histogram highlights a fraction of apps that garner exceptionally high ratings, suggesting strong enthusiasm and satisfaction among users for these particular apps.\n",
        "\n",
        "**Areas for Improvement:** While most apps receive positive ratings, the presence of lower ratings signifies areas for improvement. Analyzing negative reviews can provide valuable insights for developers to enhance app features and address user concerns effectively."
      ],
      "metadata": {
        "id": "Po6ZPi4hphqO"
      }
    },
    {
      "cell_type": "markdown",
      "source": [
        "##### 3. Will the gained insights help creating a positive business impact?\n",
        "Are there any insights that lead to negative growth? Justify with specific reason."
      ],
      "metadata": {
        "id": "b0JNsNcRphqO"
      }
    },
    {
      "cell_type": "markdown",
      "source": [
        "1. **Enhanced User Satisfaction:** By recognizing the prevalence of positive sentiment among users, businesses can gain confidence in the overall satisfaction levels of their apps. This understanding enables them to focus on maintaining and improving features that resonate well with users, ultimately leading to enhanced user satisfaction and loyalty.\n",
        "\n",
        "2. **Targeted Improvement Strategies:** Identifying areas with negative sentiment provides businesses with actionable insights into specific aspects of their apps that require attention. By addressing these pain points and actively working to improve user experience, businesses can foster a more positive perception of their apps among users, leading to increased engagement and retention.\n",
        "\n",
        "3. **Strategic Decision-Making:** Understanding the distribution of sentiment ratings allows businesses to make informed decisions regarding app development, marketing strategies, and resource allocation. For instance, they can prioritize investments in features that receive positive feedback while allocating resources to address areas of concern highlighted by negative sentiment.\n",
        "\n",
        "4. **Competitive Advantage:** By continuously monitoring and responding to user sentiment, businesses can differentiate themselves from competitors by delivering apps that consistently meet or exceed user expectations. This proactive approach to user feedback can help businesses maintain a competitive edge in the market and attract a loyal user base.\n",
        "\n",
        "while the insights from the histogram analysis provide valuable information about user sentiment, it's essential for businesses to proactively address any negative feedback and areas for improvement to prevent negative growth. By actively listening to user feedback, implementing necessary changes, and continuously striving to enhance the user experience, businesses can mitigate the risk of negative growth and maintain a positive trajectory in the market."
      ],
      "metadata": {
        "id": "xvSq8iUTphqO"
      }
    },
    {
      "cell_type": "markdown",
      "source": [
        "#### Chart - 8"
      ],
      "metadata": {
        "id": "BZR9WyysphqO"
      }
    },
    {
      "cell_type": "code",
      "source": [
        "# Convert 'Last Updated' column to datetime\n",
        "merged_df['Last Updated'] = pd.to_datetime(merged_df['Last Updated'])\n",
        "\n",
        "# Group by year and calculate average ratings\n",
        "average_ratings = merged_df.groupby(merged_df['Last Updated'].dt.year)['Rating'].mean()\n",
        "\n",
        "# Set the style\n",
        "sns.set_style(\"whitegrid\")\n",
        "\n",
        "# Plotting\n",
        "plt.figure(figsize=(12, 6))\n",
        "plt.plot(average_ratings.index, average_ratings, marker='D', markersize=8, color='#ffa700', linestyle='-', markeredgecolor='red', markerfacecolor='black')\n",
        "\n",
        "# Add vertical lines for each year\n",
        "for year in average_ratings.index:\n",
        "    plt.axvline(x=year, color='#cccccc', linestyle='--', linewidth=0.5)\n",
        "\n",
        "# Set grid color to white\n",
        "plt.grid(True, linestyle='--', alpha=0.5, color='white')\n",
        "\n",
        "plt.xlabel('Year', fontsize=12)\n",
        "plt.ylabel('Average Rating', fontsize=12)\n",
        "plt.title('Average App Ratings Over Time', fontsize=14)\n",
        "plt.xticks(average_ratings.index, ha='right', fontsize=10)\n",
        "plt.yticks(fontsize=10)\n",
        "plt.tight_layout()\n",
        "plt.show()"
      ],
      "metadata": {
        "id": "id0QCgf3mb15"
      },
      "execution_count": null,
      "outputs": []
    },
    {
      "cell_type": "markdown",
      "source": [
        "##### 1. Why did you pick the specific chart?"
      ],
      "metadata": {
        "id": "jj7wYXLtphqO"
      }
    },
    {
      "cell_type": "markdown",
      "source": [
        "I selected a line chart to illustrate the trend of average app ratings over time (in years) due to its suitability for visualizing data that exhibits continuous change over a continuous axis, such as time. Line charts are particularly effective in depicting trends and patterns in data sets where the values are interconnected and vary continuously. By plotting the average app ratings against the timeline, viewers can easily discern any upward or downward trends in app ratings over the years. This visualization facilitates the analysis of long-term performance trends and enables stakeholders to identify periods of improvement or decline in app quality. Additionally, line charts provide a clear and intuitive representation of how app ratings evolve over time, making them a valuable tool for monitoring and evaluating the overall trajectory of app performance."
      ],
      "metadata": {
        "id": "Ob8u6rCTphqO"
      }
    },
    {
      "cell_type": "markdown",
      "source": [
        "##### 2. What is/are the insight(s) found from the chart?"
      ],
      "metadata": {
        "id": "eZrbJ2SmphqO"
      }
    },
    {
      "cell_type": "markdown",
      "source": [
        "Insights from the average app ratings over time chart:\n",
        "\n",
        "1. **Rating Fluctuations**: The chart reveals fluctuations in average ratings across different years. Starting at 3.8 in 2011, ratings decline to 3.5 in 2012, followed by a notable increase peaking at 4.15 in 2014. Subsequently, ratings stabilize between 4.04 and 4.35 from 2015 onwards.\n",
        "\n",
        "2. **Upward Trend (2012-2014)**: A discernible upward trend in average ratings is observed from 2012 to 2014. This period suggests an overall improvement in user perception of apps released during these years, indicating enhanced user satisfaction.\n",
        "\n",
        "3. **Stability (2015 Onwards)**: Post-2014, ratings exhibit stability with minor fluctuations, implying consistent user satisfaction levels. This period suggests that the quality and user experience of apps remained relatively steady over time.\n",
        "\n",
        "4. **Peak in 2018**: 2018 stands out with the highest average rating, reaching approximately 4.35. This suggests that apps released in 2018 received particularly high average ratings from users, indicating exceptional user satisfaction during that year."
      ],
      "metadata": {
        "id": "mZtgC_hjphqO"
      }
    },
    {
      "cell_type": "markdown",
      "source": [
        "##### 3. Will the gained insights help creating a positive business impact?\n",
        "Are there any insights that lead to negative growth? Justify with specific reason."
      ],
      "metadata": {
        "id": "rFu4xreNphqO"
      }
    },
    {
      "cell_type": "markdown",
      "source": [
        "The insights gained from analyzing the fluctuating average ratings over the years hold significant potential for driving positive business outcomes:\n",
        "\n",
        "1. **Identifying Improvement Areas**: Businesses can utilize the observed fluctuations in ratings to pinpoint periods of lower average ratings and delve into the underlying causes. This understanding enables businesses to focus on areas that require enhancement, such as app quality, features, or user experience, fostering continuous improvement and customer satisfaction.\n",
        "\n",
        "2. **Setting Performance Goals**: The upward trend in average ratings from 2012 to 2014 serves as a benchmark for app quality improvement. Businesses can set performance goals based on this trend, aiming to maintain or surpass the achieved ratings. This proactive approach encourages businesses to strive for excellence and consistently deliver high-quality apps to meet user expectations.\n",
        "\n",
        "3. **Building Trust and Loyalty**: The stable average ratings observed from 2015 onwards reflect consistent user satisfaction with the apps. Businesses can leverage this positive feedback to build trust and loyalty among their user base. Sustained satisfaction leads to increased user engagement, retention, and advocacy, ultimately contributing to higher revenues and long-term business success.\n",
        "\n",
        "Regarding negative growth implications, the analysis indicates no significant negative trend in average ratings post-2014. However, it's crucial for businesses to continuously monitor user feedback and address any emerging issues promptly to maintain positive growth trajectories."
      ],
      "metadata": {
        "id": "ey_0qi68phqO"
      }
    },
    {
      "cell_type": "markdown",
      "source": [
        "#### Chart - 9"
      ],
      "metadata": {
        "id": "YJ55k-q6phqO"
      }
    },
    {
      "cell_type": "code",
      "source": [
        "# Chart - 8 visualization code\n",
        "import matplotlib\n",
        "counts = list(df_user_review['Sentiment'].value_counts())\n",
        "labels = 'Positive Reviews', 'Negative Reviews', 'Neutral Reviews'\n",
        "colors = ['#ffa700', 'crimson', 'blue']  # Custom colors for each segment\n",
        "explode = [0.01, 0.05, 0.05]  # Explode parameter for aesthetic purposes\n",
        "\n",
        "plt.figure(figsize=(12, 6))\n",
        "plt.pie(counts, labels=labels, explode=explode, colors=colors, shadow=True, autopct=\"%.2f%%\")\n",
        "plt.title('Percentage of Review Sentiments', fontsize=20)\n",
        "plt.axis('off')\n",
        "plt.legend(bbox_to_anchor=(0.9, 0, 0.5, 1))\n",
        "plt.show()\n"
      ],
      "metadata": {
        "id": "EjXyOKUKmkve"
      },
      "execution_count": null,
      "outputs": []
    },
    {
      "cell_type": "markdown",
      "source": [
        "##### 1. Why did you pick the specific chart?"
      ],
      "metadata": {
        "id": "gCFgpxoyphqP"
      }
    },
    {
      "cell_type": "markdown",
      "source": [
        "A pie chart is chosen to display the percentage distribution of review sentiments due to its ability to represent part-to-whole relationships effectively. Each segment of the pie corresponds to a specific sentiment category, allowing viewers to quickly grasp the relative proportions of positive, negative, and neutral reviews. With customizable colors and the option to explode segments, the pie chart enhances visual appeal and draws attention to key sentiment categories. Its simplicity, clarity, and percentage representation make it an ideal choice for conveying the sentiment distribution concisely and intuitively to the audience."
      ],
      "metadata": {
        "id": "TVxDimi2phqP"
      }
    },
    {
      "cell_type": "markdown",
      "source": [
        "##### 2. What is/are the insight(s) found from the chart?"
      ],
      "metadata": {
        "id": "OVtJsKN_phqQ"
      }
    },
    {
      "cell_type": "markdown",
      "source": [
        "The breakdown of review sentiments reveals that positive reviews constitute the majority, accounting for 64.30% of the total. This indicates a significant level of satisfaction or positive sentiment among users regarding the reviewed subject matter. Positive reviews often highlight the strengths, benefits, or positive experiences associated with the product, service, or experience under review.\n",
        "\n",
        "Conversely, negative reviews comprise 22.80% of the total, indicating a noteworthy portion of dissatisfaction or negative sentiment among users. Negative reviews typically point out shortcomings, issues, or areas for improvement in the reviewed subject, providing valuable feedback for businesses to address and improve upon.\n",
        "\n",
        "Neutral reviews make up 12.90% of the total, representing a smaller proportion of reviews that neither strongly endorse nor criticize the subject matter. Neutral reviews may indicate a sense of ambivalence or indifference among users, where they neither praise nor condemn the subject but instead provide a more neutral or balanced perspective.\n",
        "\n",
        "Understanding the distribution of review sentiments allows businesses to gauge overall customer satisfaction levels, identify areas for improvement, and tailor their strategies to address feedback effectively. By analyzing the sentiment breakdown, businesses can take targeted actions to amplify positive experiences, address concerns highlighted in negative reviews, and maintain a balanced and responsive approach to customer feedback."
      ],
      "metadata": {
        "id": "ngGi97qjphqQ"
      }
    },
    {
      "cell_type": "markdown",
      "source": [
        "##### 3. Will the gained insights help creating a positive business impact?\n",
        "Are there any insights that lead to negative growth? Justify with specific reason."
      ],
      "metadata": {
        "id": "lssrdh5qphqQ"
      }
    },
    {
      "cell_type": "markdown",
      "source": [
        "\n",
        "1. **Enhanced Customer Satisfaction**: Understanding that a significant majority of reviews are positive (64.30%) indicates a high level of customer satisfaction. Businesses can leverage this insight to identify what aspects of their products or services are well-received by customers and further enhance those aspects. By focusing on strengths and positive feedback, businesses can reinforce customer satisfaction, loyalty, and advocacy, ultimately leading to increased retention and positive word-of-mouth referrals.\n",
        "\n",
        "2. **Addressing Areas for Improvement**: Acknowledging that negative reviews constitute a notable portion (22.80%) provides valuable feedback on areas that may need improvement. Businesses can use these insights to identify pain points, address customer concerns, and implement corrective actions to enhance product quality, service delivery, or user experience. Proactively addressing negative feedback demonstrates a commitment to customer-centricity and continuous improvement, fostering trust and loyalty among customers.\n",
        "\n",
        "3. **Balanced Decision-Making**: Recognizing that a portion of reviews are neutral (12.90%) highlights the importance of considering diverse perspectives and feedback. Businesses can use neutral feedback as an opportunity to gain insights into areas that may not strongly resonate with customers or require further clarification or enhancement. By maintaining a balanced approach to customer feedback, businesses can make informed decisions that cater to the needs and preferences of a diverse customer base.\n",
        "\n",
        "Overall, leveraging insights from the distribution of review sentiments enables businesses to fine-tune their strategies, prioritize initiatives that drive customer satisfaction, and foster a positive brand reputation. By actively listening to customer feedback and responding effectively, businesses can cultivate long-term relationships with customers, drive growth, and achieve sustainable business success."
      ],
      "metadata": {
        "id": "tBpY5ekJphqQ"
      }
    },
    {
      "cell_type": "markdown",
      "source": [
        "#### Chart - 10"
      ],
      "metadata": {
        "id": "U2RJ9gkRphqQ"
      }
    },
    {
      "cell_type": "code",
      "source": [
        "# Chart - 9 visualization code\n",
        "positive_ur_df=df_user_review[df_user_review['Sentiment']=='Positive']\n",
        "positive_ur_df\n",
        "negative_ur_df=df_user_review[df_user_review['Sentiment']=='Negative']\n",
        "negative_ur_df\n",
        "\n",
        "# Group positive and negative sentiment data\n",
        "positive_ur_counts = positive_ur_df.groupby('App')['Sentiment'].count().nlargest(10)\n",
        "negative_ur_counts = negative_ur_df.groupby('App')['Sentiment'].count().nlargest(10)\n",
        "\n",
        "# Create a DataFrame with counts of both positive and negative sentiment\n",
        "combined_counts = pd.DataFrame({'Positive': positive_ur_counts, 'Negative': negative_ur_counts})\n",
        "combined_counts = combined_counts.fillna(0)  # Fill NaN values with 0\n",
        "\n",
        "# Plot the combined stacked bar chart\n",
        "fig, ax = plt.subplots(figsize=(12, 6))\n",
        "\n",
        "# Plot positive reviews\n",
        "combined_counts['Positive'].plot(kind='barh', color='#ffa700', ax=ax, label='Positive')\n",
        "\n",
        "# Plot negative reviews as stacked bars\n",
        "combined_counts['Negative'].plot(kind='barh', color='crimson', ax=ax, label='Negative', left=combined_counts['Positive'])\n",
        "\n",
        "# Invert y-axis to show top 10 apps at the top\n",
        "plt.gca().invert_yaxis()\n",
        "\n",
        "# Add titles and labels\n",
        "plt.title(\"Top 10 Positive and Negative Review Apps\", fontsize=16)\n",
        "plt.xlabel(\"Total Number of Reviews\", fontsize=14)\n",
        "plt.ylabel(\"App\", fontsize=14)\n",
        "plt.legend(facecolor = 'white')\n",
        "\n",
        "plt.show()"
      ],
      "metadata": {
        "id": "_t8OPzNQmpbM"
      },
      "execution_count": null,
      "outputs": []
    },
    {
      "cell_type": "markdown",
      "source": [
        "##### 1. Why did you pick the specific chart?"
      ],
      "metadata": {
        "id": "1M8mcRywphqQ"
      }
    },
    {
      "cell_type": "markdown",
      "source": [
        "The stacked horizontal bar chart is chosen for this visualization to succinctly compare the top 10 apps based on both positive and negative reviews simultaneously. This layout facilitates a clear visual comparison of sentiment distribution for each app, aiding in the identification of top-performing apps and providing insights into user sentiment balance. Additionally, the horizontal layout accommodates long app names and optimizes space utilization, enhancing readability and interpretability for viewers."
      ],
      "metadata": {
        "id": "8agQvks0phqQ"
      }
    },
    {
      "cell_type": "markdown",
      "source": [
        "##### 2. What is/are the insight(s) found from the chart?"
      ],
      "metadata": {
        "id": "tgIPom80phqQ"
      }
    },
    {
      "cell_type": "markdown",
      "source": [
        "The analysis of the chart reveals a predominant trend of positive user reviews across the majority of apps, indicating a favorable overall sentiment. Notably, apps with positive reviews are predominantly from the gaming genre, suggesting a strong positive impact within this category. Conversely, apps with negative reviews, primarily observed in the social genre, exhibit comparatively lesser influence. This insight underscores the importance of user perception and genre specificity in shaping app performance and highlights potential areas for improvement in social-oriented applications."
      ],
      "metadata": {
        "id": "Qp13pnNzphqQ"
      }
    },
    {
      "cell_type": "markdown",
      "source": [
        "##### 3. Will the gained insights help creating a positive business impact?\n",
        "Are there any insights that lead to negative growth? Justify with specific reason."
      ],
      "metadata": {
        "id": "JMzcOPDDphqR"
      }
    },
    {
      "cell_type": "markdown",
      "source": [
        "\n",
        "1. **Identifying Strengths and Weaknesses**: Recognizing the prevalence of positive user reviews across various apps and genres provides valuable insights into areas of strength. Businesses can leverage this information to identify features, functionalities, or aspects of their apps that resonate well with users, allowing them to capitalize on these strengths and further enhance their offerings. Similarly, understanding the factors contributing to negative reviews helps businesses identify areas for improvement, enabling them to address weaknesses and enhance overall user satisfaction.\n",
        "\n",
        "2. **Informing Product Development and Marketing Strategies**: By understanding the correlation between user reviews and app genres, businesses can tailor their product development and marketing strategies accordingly. For instance, recognizing the popularity of gaming apps among users may prompt businesses to prioritize the development of new gaming titles or allocate marketing resources to promote existing gaming apps. Similarly, understanding the challenges faced by social apps can guide businesses in refining their offerings and implementing targeted marketing campaigns to address user concerns.\n",
        "\n",
        "3. **Enhancing User Engagement and Retention**: Positive user reviews serve as powerful endorsements that can attract new users and foster loyalty among existing ones. Businesses can leverage positive reviews as part of their marketing efforts to build brand credibility, attract a larger user base, and increase user engagement. Additionally, addressing negative reviews and implementing improvements based on user feedback demonstrates a commitment to user satisfaction, fostering trust and loyalty among users and contributing to long-term retention.\n",
        "\n",
        "4. **Competitive Advantage**: By understanding user sentiment and app performance relative to competitors, businesses can gain a competitive advantage in the marketplace. Analyzing user reviews allows businesses to identify areas where they outperform competitors and areas where they can differentiate themselves through unique features or enhancements. Leveraging these insights enables businesses to stay ahead of the competition, attract more users, and drive business growth.\n"
      ],
      "metadata": {
        "id": "R4Ka1PC2phqR"
      }
    },
    {
      "cell_type": "markdown",
      "source": [
        "#### Chart - 11"
      ],
      "metadata": {
        "id": "x-EpHcCOp1ci"
      }
    },
    {
      "cell_type": "code",
      "source": [
        "# Chart - 10 visualization code\n",
        "plt.figure(figsize=(12, 6))\n",
        "\n",
        "# Plot the histogram with customized parameters\n",
        "plt.hist(df_user_review[df_user_review['Sentiment_Subjectivity'].notnull()]['Sentiment_Subjectivity'], bins=30, color='crimson', edgecolor='black', alpha=0.8)\n",
        "\n",
        "# Add labels and title\n",
        "plt.xlabel(\"Subjectivity\", fontsize=14)\n",
        "plt.ylabel(\"Frequency\", fontsize=14)\n",
        "plt.title(\"Distribution of Subjectivity\", fontsize=16)\n",
        "\n",
        "# Add grid lines\n",
        "plt.grid(axis='y', linestyle='--', alpha=0.7)\n",
        "\n",
        "# Show the plot\n",
        "plt.show()"
      ],
      "metadata": {
        "id": "mAQTIvtqp1cj"
      },
      "execution_count": null,
      "outputs": []
    },
    {
      "cell_type": "markdown",
      "source": [
        "##### 1. Why did you pick the specific chart?"
      ],
      "metadata": {
        "id": "X_VqEhTip1ck"
      }
    },
    {
      "cell_type": "markdown",
      "source": [
        "The histogram chart is selected to visualize the distribution of subjectivity scores because it effectively displays the frequency distribution of a continuous variable, such as subjectivity, in a clear and concise manner. By dividing the data into bins and representing the frequency of observations within each bin with bars, the histogram provides insights into the distribution pattern and central tendency of the subjectivity scores. The choice of histogram allows for easy interpretation of the data's spread and helps identify any potential skewness or patterns present in the subjectivity distribution. Additionally, the customization options, such as color, edgecolor, and alpha transparency, enhance the visual appeal and clarity of the chart, making it a suitable choice for presenting the distribution of subjectivity scores."
      ],
      "metadata": {
        "id": "-vsMzt_np1ck"
      }
    },
    {
      "cell_type": "markdown",
      "source": [
        "##### 2. What is/are the insight(s) found from the chart?"
      ],
      "metadata": {
        "id": "8zGJKyg5p1ck"
      }
    },
    {
      "cell_type": "markdown",
      "source": [
        "The histogram displays the distribution of sentiment subjectivity scores, where a score of 0 indicates objectivity (fact-based) and a score of 1 represents subjectivity (opinion-based). The peak frequency of subjectivity scores falls within the range of 0.4 to 0.7, indicating that a significant number of reviews provided by users are subjective in nature, reflecting their personal opinions and experiences rather than factual observations. This suggests that users tend to express their sentiments and evaluations of applications based on their personal experiences, preferences, and perceptions. The concentration of scores in this range highlights the subjective nature of user reviews and underscores the importance of considering individual perspectives and opinions when analyzing app feedback and user sentiment."
      ],
      "metadata": {
        "id": "ZYdMsrqVp1ck"
      }
    },
    {
      "cell_type": "markdown",
      "source": [
        "##### 3. Will the gained insights help creating a positive business impact?\n",
        "Are there any insights that lead to negative growth? Justify with specific reason."
      ],
      "metadata": {
        "id": "PVzmfK_Ep1ck"
      }
    },
    {
      "cell_type": "markdown",
      "source": [
        "\n",
        "1. **Understanding User Preferences**: Recognizing that a significant number of user reviews are subjective indicates that users tend to express their opinions and experiences when providing feedback on applications. This understanding allows businesses to gain insights into user preferences, expectations, and satisfaction levels, enabling them to tailor their products and services to better meet user needs.\n",
        "\n",
        "2. **Enhancing User Engagement**: By acknowledging the subjective nature of user reviews, businesses can actively engage with users to better understand their experiences and sentiments. This engagement can include responding to user feedback, addressing concerns or suggestions, and incorporating user insights into product development and improvement initiatives. By demonstrating a commitment to listening to and valuing user opinions, businesses can foster stronger relationships with users, leading to increased loyalty and advocacy.\n",
        "\n",
        "3. **Improving Product Quality**: The concentration of sentiment subjectivity scores within a certain range can provide valuable feedback on the quality and performance of applications. Businesses can use this information to identify areas for improvement, address issues or shortcomings, and enhance overall product quality. By continuously striving to improve their offerings based on user feedback, businesses can differentiate themselves in the marketplace and attract more satisfied customers.\n",
        "\n",
        "4. **Driving User Satisfaction and Retention**: By actively considering user opinions and experiences, businesses can enhance user satisfaction and retention. Addressing subjective feedback and making improvements based on user input demonstrates a commitment to customer-centricity and responsiveness, which can positively impact user perceptions and loyalty. Satisfied and loyal customers are more likely to continue using and recommending the application, leading to increased user retention and long-term business success.\n"
      ],
      "metadata": {
        "id": "druuKYZpp1ck"
      }
    },
    {
      "cell_type": "markdown",
      "source": [
        "#### Chart - 12"
      ],
      "metadata": {
        "id": "n3dbpmDWp1ck"
      }
    },
    {
      "cell_type": "code",
      "source": [
        "import seaborn as sns\n",
        "import matplotlib.pyplot as plt\n",
        "\n",
        "# Set the style and customize the grid color\n",
        "sns.set_style(\"darkgrid\",)\n",
        "\n",
        "# Extracting year from 'Last Updated' column\n",
        "merged_df['Update Year'] = merged_df['Last Updated'].dt.year\n",
        "\n",
        "# Group by 'Update Year' and count the number of updates\n",
        "update_counts = merged_df.groupby(\"Update Year\")[\"App\"].count()\n",
        "\n",
        "# Group by 'Update Year' and 'Sentiment' and count occurrences\n",
        "sentiment_counts = merged_df.groupby(['Update Year', 'Sentiment']).size().unstack()\n",
        "\n",
        "# Plotting\n",
        "plt.figure(figsize=(8, 8))\n",
        "\n",
        "# Plotting the number of updates received\n",
        "plt.subplot(2, 1, 1)\n",
        "plt.plot(update_counts.index, update_counts, label='Number of Updates', marker='o', color='black')\n",
        "plt.ylabel('Number of Updates', size=15)\n",
        "plt.title('Number of Updates and Sentiments over Update Years', size=15)\n",
        "plt.legend(facecolor = 'white')\n",
        "\n",
        "# Plotting sentiments\n",
        "plt.subplot(2, 1, 2)\n",
        "plt.plot(sentiment_counts.index, sentiment_counts['Positive'], label='Positive', marker='o')\n",
        "plt.plot(sentiment_counts.index, sentiment_counts['Negative'], label='Negative', marker='o')\n",
        "plt.plot(sentiment_counts.index, sentiment_counts['Neutral'], label='Neutral', marker='o')\n",
        "plt.xlabel('Update Year', size=15)\n",
        "plt.ylabel('Number of Sentiments', size=15)\n",
        "plt.legend(facecolor = 'white')\n",
        "\n",
        "# Adjust layout for better readability\n",
        "plt.tight_layout()\n",
        "\n",
        "# Show the plot\n",
        "plt.show()"
      ],
      "metadata": {
        "id": "-qqTxD8kagib"
      },
      "execution_count": null,
      "outputs": []
    },
    {
      "cell_type": "markdown",
      "source": [
        "##### 1. Why did you pick the specific chart?"
      ],
      "metadata": {
        "id": "ylSl6qgtp1ck"
      }
    },
    {
      "cell_type": "markdown",
      "source": [
        "Line charts offer a compelling means to sequentially present data, particularly over time. In this instance, I employed line charts to visually depict the evolution of update counts and sentiment distribution across time. The objective was to explore potential correlations between these datasets and discern any patterns or trends."
      ],
      "metadata": {
        "id": "m2xqNkiQp1ck"
      }
    },
    {
      "cell_type": "markdown",
      "source": [
        "##### 2. What is/are the insight(s) found from the chart?"
      ],
      "metadata": {
        "id": "ZWILFDl5p1ck"
      }
    },
    {
      "cell_type": "markdown",
      "source": [
        "1. A notable trend reveals a consistent rise in positive sentiments over time, implying a growing satisfaction level among users with the updates they receive.\n",
        "  \n",
        "2. Concurrently, there's a discernible uptrend in the frequency of updates, indicating developers' increasing tendency to release new updates more frequently.\n",
        "  \n",
        "3. Conversely, the count of negative sentiments remains relatively stable, suggesting a consistent level of user contentment overall with the updates they receive."
      ],
      "metadata": {
        "id": "x-lUsV2mp1ck"
      }
    },
    {
      "cell_type": "markdown",
      "source": [
        "##### 3. Will the gained insights help creating a positive business impact?\n",
        "Are there any insights that lead to negative growth? Justify with specific reason."
      ],
      "metadata": {
        "id": "M7G43BXep1ck"
      }
    },
    {
      "cell_type": "markdown",
      "source": [
        "\n",
        "1. **Enhanced User Satisfaction**: Recognizing the increasing trend of positive sentiments towards updates indicates that users are generally content with the improvements made over time. This insight allows businesses to continue focusing on aspects that garner positive feedback, thereby enhancing overall user satisfaction.\n",
        "\n",
        "2. **Agile Development Strategies**: The trend of rising update counts implies that developers are actively iterating and improving their products. By acknowledging this trend, businesses can adopt agile development strategies to continuously enhance their offerings, ensuring they remain competitive and meet evolving user needs effectively.\n",
        "\n",
        "3. **Feedback-Driven Iterations**: Despite the stability in negative sentiment counts, businesses can still derive valuable insights from negative feedback to drive iterative improvements. By addressing pain points highlighted by negative sentiments, businesses can refine their products and services, leading to increased user satisfaction and loyalty.\n",
        "\n",
        "4. **Competitive Advantage**: Understanding user sentiments and update trends provides businesses with a competitive edge. By aligning product development efforts with user preferences and market demands, businesses can differentiate themselves, attract more users, and establish themselves as industry leaders.\n"
      ],
      "metadata": {
        "id": "5wwDJXsLp1cl"
      }
    },
    {
      "cell_type": "markdown",
      "source": [
        "#### Chart - 13"
      ],
      "metadata": {
        "id": "Ag9LCva-p1cl"
      }
    },
    {
      "cell_type": "code",
      "source": [
        "# Chart - 13 visualization code\n",
        "sns.set_style(\"darkgrid\")\n",
        "# Scatter plot for sentiment analysis\n",
        "plt.figure(figsize=(12, 6))\n",
        "sns.scatterplot(x='Sentiment_Subjectivity', y='Sentiment_Polarity', hue='Sentiment', data=df_user_review, edgecolor='white', palette=\"inferno\")\n",
        "plt.title(\"Google Play Store Reviews Sentiment Analysis\", fontsize=20)\n",
        "plt.xlabel('Sentiment Subjectivity', size=15)\n",
        "plt.ylabel('Sentiment Polarity', size=15)\n",
        "plt.legend(facecolor = 'white')\n",
        "plt.show()"
      ],
      "metadata": {
        "id": "EUfxeq9-p1cl"
      },
      "execution_count": null,
      "outputs": []
    },
    {
      "cell_type": "markdown",
      "source": [
        "##### 1. Why did you pick the specific chart?"
      ],
      "metadata": {
        "id": "E6MkPsBcp1cl"
      }
    },
    {
      "cell_type": "markdown",
      "source": [
        "Scatter plots serve as effective tools for exploratory data analysis, facilitating the rapid identification of patterns and correlations within the data. Through the utilization of the hue parameter, we can color-code data points based on a third variable, thereby enhancing the visibility of patterns and correlations between variables. Thus, I opted for a scatter plot to discern any relationships between Sentiment Subjectivity and Sentiment Polarity, with the Sentiment variable represented by hue."
      ],
      "metadata": {
        "id": "V22bRsFWp1cl"
      }
    },
    {
      "cell_type": "markdown",
      "source": [
        "##### 2. What is/are the insight(s) found from the chart?"
      ],
      "metadata": {
        "id": "2cELzS2fp1cl"
      }
    },
    {
      "cell_type": "markdown",
      "source": [
        "The scatter plot depicting Sentiment Polarity against Sentiment Subjectivity reveals a moderate positive correlation between the two variables. This indicates that, on average, as sentiment polarity increases, sentiment subjectivity also tends to increase. However, it's worth noting that the correlation between the variables is not very strong. This suggests that while there is a tendency for individuals to express their opinions more strongly when they are feeling positive compared to when they are feeling negative, other factors may also influence the relationship between sentiment polarity and subjectivity."
      ],
      "metadata": {
        "id": "ozQPc2_Ip1cl"
      }
    },
    {
      "cell_type": "markdown",
      "source": [
        "##### 3. Will the gained insights help creating a positive business impact?\n",
        "Are there any insights that lead to negative growth? Justify with specific reason."
      ],
      "metadata": {
        "id": "3MPXvC8up1cl"
      }
    },
    {
      "cell_type": "markdown",
      "source": [
        "\n",
        "1. **Understanding Customer Sentiment**: By recognizing the relationship between sentiment polarity and subjectivity, businesses gain valuable insights into how customers express their opinions. This understanding allows businesses to better interpret and respond to customer feedback, leading to improved products, services, and overall customer satisfaction.\n",
        "\n",
        "2. **Tailoring Communication Strategies**: Armed with the knowledge that individuals tend to express their opinions more strongly when they are feeling positive, businesses can tailor their communication strategies accordingly. This may involve emphasizing positive aspects of products or services in marketing campaigns, social media posts, and customer communications to resonate more effectively with customers.\n",
        "\n",
        "3. **Enhancing Product Development**: The insights obtained from analyzing sentiment polarity and subjectivity can inform product development efforts. By understanding how customers' sentiments evolve and interact, businesses can prioritize features, updates, and improvements that align with customer preferences and expectations, ultimately leading to more successful product launches and increased customer loyalty.\n",
        "\n",
        "4. **Improving Customer Relationships**: Understanding the nuances of customer sentiment allows businesses to cultivate stronger relationships with their customers. By actively listening to and acknowledging customer feedback, addressing concerns, and leveraging positive sentiments, businesses can foster trust, loyalty, and advocacy among their customer base, ultimately leading to a more positive brand reputation and increased customer retention.\n"
      ],
      "metadata": {
        "id": "GL8l1tdLp1cl"
      }
    },
    {
      "cell_type": "markdown",
      "source": [
        "#### Chart - 14 - Correlation Heatmap"
      ],
      "metadata": {
        "id": "NC_X3p0fY2L0"
      }
    },
    {
      "cell_type": "code",
      "source": [
        "# Correlation Heatmap visualization code\n",
        "numerical_columns = merged_df[['Rating', 'Reviews', 'Installs', 'Price', 'Sentiment_Polarity', 'Sentiment_Subjectivity']]\n",
        "\n",
        "# Create a correlation matrix\n",
        "correlation_matrix = numerical_columns.corr()\n",
        "\n",
        "# Create a heatmap\n",
        "plt.figure(figsize=(12, 6))\n",
        "sns.heatmap(correlation_matrix, annot=True, cmap='rocket', fmt=\".2f\")\n",
        "plt.title('Correlation Heatmap',size=20)\n",
        "plt.show()"
      ],
      "metadata": {
        "id": "xyC9zolEZNRQ"
      },
      "execution_count": null,
      "outputs": []
    },
    {
      "cell_type": "markdown",
      "source": [
        "##### 1. Why did you pick the specific chart?"
      ],
      "metadata": {
        "id": "UV0SzAkaZNRQ"
      }
    },
    {
      "cell_type": "markdown",
      "source": [
        "A correlation heatmap is a valuable tool for unveiling relationships between pairs of variables within a dataset. Through color-coding, it enables rapid assessment of whether variables exhibit positive correlations (similar movements) or negative correlations (opposite movements). Brighter colors indicate stronger correlations, while darker hues suggest weaker or nonexistent correlations. The correlation values range from -1 to 1, with positive values indicating positive correlations, negative values indicating negative correlations, and values close to zero indicating weak or no correlations. In this analysis, a correlation heatmap was employed to uncover relationships among Rating, Reviews, Installs, Price, Sentiment_Polarity, and Sentiment_Subjectivity."
      ],
      "metadata": {
        "id": "DVPuT8LYZNRQ"
      }
    },
    {
      "cell_type": "markdown",
      "source": [
        "##### 2. What is/are the insight(s) found from the chart?"
      ],
      "metadata": {
        "id": "YPEH6qLeZNRQ"
      }
    },
    {
      "cell_type": "markdown",
      "source": [
        "1. Rating exhibits a moderate positive correlation with Reviews, Installs, and Sentiment_Polarity. This indicates that apps with higher ratings tend to garner more reviews, higher installation counts, and more positive sentiment in user reviews. Additionally, Rating displays a weak negative correlation with Price, suggesting that apps with higher ratings tend to be slightly cheaper.\n",
        "\n",
        "2. Reviews demonstrates a strong positive correlation with Installs, implying that apps with more reviews tend to have higher installation numbers. Moreover, Reviews displays a weak negative correlation with Price, indicating that apps with more reviews tend to be slightly cheaper.\n",
        "\n",
        "3. Installs shows a weak negative correlation with Price, suggesting that apps with higher installation counts tend to be slightly cheaper.\n",
        "\n",
        "4. Sentiment_Polarity displays a moderate positive correlation with Sentiment_Subjectivity, indicating that apps with more positive sentiment in their reviews tend to have slightly more subjective reviews."
      ],
      "metadata": {
        "id": "bfSqtnDqZNRR"
      }
    },
    {
      "cell_type": "markdown",
      "source": [
        "#### Chart - 15 - Pair Plot"
      ],
      "metadata": {
        "id": "q29F0dvdveiT"
      }
    },
    {
      "cell_type": "code",
      "source": [
        "# Pair Plot visualization code\n",
        "\n",
        "included_columns = merged_df[['Rating', 'Installs', 'Reviews', 'Price', 'Type']]\n",
        "\n",
        "# Log-transform 'Installs' and 'Reviews'\n",
        "included_columns['Installs(Log)'] = np.log(included_columns['Installs'])\n",
        "included_columns['Reviews(Log)'] = np.log10(included_columns['Reviews'])\n",
        "\n",
        "# Selecting columns for pair plot\n",
        "selected_columns = included_columns[['Rating', 'Installs(Log)', 'Reviews(Log)', 'Price', 'Type']]\n",
        "\n",
        "# Create a pair plot\n",
        "p = sns.pairplot(selected_columns, hue='Type', markers=[\"o\", \"s\"], palette={\"Free\": \"blue\", \"Paid\": \"orange\"})\n",
        "p.fig.suptitle(\"Pair Plot - Rating, Installs, Reviews, Price\", x=0.5, y=1.02, fontsize=20)\n",
        "\n",
        "# Show the plot\n",
        "plt.show()"
      ],
      "metadata": {
        "id": "o58-TEIhveiU"
      },
      "execution_count": null,
      "outputs": []
    },
    {
      "cell_type": "markdown",
      "source": [
        "##### 1. Why did you pick the specific chart?"
      ],
      "metadata": {
        "id": "EXh0U9oCveiU"
      }
    },
    {
      "cell_type": "markdown",
      "source": [
        "Pair plots serve as a potent tool for visually examining relationships between multiple variables within a dataset. Within the grid of subplots, each pair of variables is represented, enabling the easy identification of patterns, trends, and correlations. In this analysis, a pair plot was employed to delve into the patterns and correlations between Rating, Installs, Reviews, and Price."
      ],
      "metadata": {
        "id": "eMmPjTByveiU"
      }
    },
    {
      "cell_type": "markdown",
      "source": [
        "##### 2. What is/are the insight(s) found from the chart?"
      ],
      "metadata": {
        "id": "22aHeOlLveiV"
      }
    },
    {
      "cell_type": "markdown",
      "source": [
        "- **Rating and Installs:** A positive correlation exists between rating and installs, indicating that apps with higher ratings tend to attract more installs. This association suggests that users are inclined to install apps that have garnered positive reviews from other users.\n",
        "\n",
        "- **Rating and Reviews:** Similarly, there is a positive correlation between rating and reviews, implying that apps with higher ratings tend to accumulate more reviews. This relationship suggests that users are more inclined to provide feedback for apps that they find enjoyable or beneficial.\n",
        "\n",
        "- **Rating and Price:** A weak negative correlation is observed between rating and price, indicating that apps with higher ratings tend to be slightly cheaper. This correlation may be attributed to the fact that developers of high-quality apps can afford to offer them at lower prices due to the heightened demand they receive.\n",
        "\n",
        "- **Installs and Reviews:** A strong positive correlation is evident between installs and reviews, signifying that apps with more installs tend to amass more reviews. This trend suggests that users are more likely to provide reviews for apps they have extensively used or found useful.\n",
        "\n",
        "- **Installs and Price:** A weak negative correlation is observed between installs and price, indicating that apps with more installs tend to be slightly cheaper. This correlation may stem from the ability of developers of popular apps to offer them at lower prices, benefiting from the larger user base generated by higher installation numbers."
      ],
      "metadata": {
        "id": "uPQ8RGwHveiV"
      }
    },
    {
      "cell_type": "markdown",
      "source": [
        "## **5. Solution to Business Objective**"
      ],
      "metadata": {
        "id": "JcMwzZxoAimU"
      }
    },
    {
      "cell_type": "markdown",
      "source": [
        "#### What do you suggest the client to achieve Business Objective ?\n",
        "Explain Briefly."
      ],
      "metadata": {
        "id": "8G2x9gOozGDZ"
      }
    },
    {
      "cell_type": "markdown",
      "source": [
        "Based on the insights derived from the analysis of the merged dataset, actionable recommendations have been crafted for the client to optimize their app performance and achieve their business objectives effectively:\n",
        "\n",
        "1. **Strategic Development and Partnerships:** The client should prioritize investing in or partnering with top-rated apps across various genres, leveraging their popularity and positive user sentiment to attract more users and increase revenue.\n",
        "\n",
        "2. **User Sentiment Focus:** Emphasize the importance of user sentiment and reviews. Encourage users to provide feedback, utilize positive reviews for marketing, and address negative feedback promptly to improve app performance and user satisfaction.\n",
        "\n",
        "3. **Content Ratings Alignment:** Tailor app development and marketing strategies to target specific content ratings that align with the client's target audience and business goals, ensuring optimal user engagement and satisfaction.\n",
        "\n",
        "4. **Continuous Monitoring of App Ratings:** Monitor app ratings over time to identify trends and patterns, replicating successful strategies and features in future releases to maintain positive user sentiment and satisfaction.\n",
        "\n",
        "5. **Pricing Strategy Optimization:** Carefully consider pricing strategies to balance perceived value with user expectations. Explore alternative monetization models such as in-app purchases or subscriptions to maximize revenue while maintaining user satisfaction.\n",
        "\n",
        "6. **Exploration of Popular Categories:** Focus on developing or promoting apps within popular categories identified through the analysis, aligning with user demands and preferences to increase user adoption and business success.\n",
        "\n",
        "7. **App Size Optimization:** Optimize app sizes to ensure better user experiences, attracting users who prioritize storage space and app performance without compromising functionality or features.\n",
        "\n",
        "8. **Leveraging Positive User Sentiment:** Utilize positive user sentiment identified through word cloud analysis in marketing and promotional materials, instilling confidence in potential users and encouraging app adoption.\n",
        "\n",
        "By implementing these recommendations, the client can enhance their app development, marketing, and user experience strategies, leading to increased user adoption, positive reviews, and revenue growth."
      ],
      "metadata": {
        "id": "pASKb0qOza21"
      }
    },
    {
      "cell_type": "markdown",
      "source": [
        "# **Conclusion**"
      ],
      "metadata": {
        "id": "gCX9965dhzqZ"
      }
    },
    {
      "cell_type": "markdown",
      "source": [
        "This project presents a thorough analysis of the Play Store app dataset using Python, revealing essential insights into factors influencing app engagement and success. Through insightful data visualizations and interpretations, we've gained a holistic understanding of user sentiment, app ratings, genre preferences, content suitability, and the impact of updates.\n",
        "\n",
        "Leveraging these insights, actionable recommendations have been formulated for the client to optimize app performance and achieve business objectives effectively. These recommendations include prioritizing positive sentiment, promptly addressing user concerns, catering to preferences such as smaller app sizes and frequent updates, strategically targeting specific genres and content ratings, and cultivating loyal followings in niche markets.\n",
        "\n",
        "By embracing a data-driven approach and continuously adapting to evolving user preferences, the client can ensure sustained success in the competitive Android app market.\n",
        "\n",
        "Throughout the project, an in-depth exploratory data analysis was conducted on a merged dataset comprising Play Store and user review data. Key areas explored encompassed app ratings, content categories, sentiment analysis, app size, installations, and pricing. Significant insights were uncovered, including the identification of top-rated apps across diverse categories, the absence of a strong correlation between app size and ratings, positive ratings across various content ratings, and an analysis of average sentiment polarity across genres. Collectively, these analyses furnish valuable insights into app development, user preferences, and prevailing market trends."
      ],
      "metadata": {
        "id": "Fjb1IsQkh3yE"
      }
    },
    {
      "cell_type": "markdown",
      "source": [
        "### ***Hurrah! You have successfully completed your EDA Capstone Project !!!***"
      ],
      "metadata": {
        "id": "gIfDvo9L0UH2"
      }
    }
  ]
}